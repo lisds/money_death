{
 "cells": [
  {
   "cell_type": "markdown",
   "id": "ee9a88bf",
   "metadata": {},
   "source": [
    "# Money and death\n",
    "\n",
    "\n",
    "\n",
    "We return to the death penalty."
   ]
  },
  {
   "cell_type": "code",
   "execution_count": 1,
   "id": "160f032e",
   "metadata": {
    "execution": {
     "iopub.execute_input": "2023-02-07T12:44:17.264511Z",
     "iopub.status.busy": "2023-02-07T12:44:17.264163Z",
     "iopub.status.idle": "2023-02-07T12:44:17.788540Z",
     "shell.execute_reply": "2023-02-07T12:44:17.788115Z"
    }
   },
   "outputs": [],
   "source": [
    "# Array library.\n",
    "import numpy as np\n",
    "\n",
    "# A Numpy random number generator.\n",
    "rng = np.random.default_rng()\n",
    "\n",
    "# Data frames library.\n",
    "import pandas as pd\n",
    "\n",
    "# Set up plotting\n",
    "import matplotlib.pyplot as plt\n",
    "plt.style.use('fivethirtyeight')"
   ]
  },
  {
   "cell_type": "code",
   "execution_count": 2,
   "id": "717cf60d",
   "metadata": {
    "execution": {
     "iopub.execute_input": "2023-02-07T12:44:17.790755Z",
     "iopub.status.busy": "2023-02-07T12:44:17.790547Z",
     "iopub.status.idle": "2023-02-07T12:44:17.879666Z",
     "shell.execute_reply": "2023-02-07T12:44:17.879256Z"
    }
   },
   "outputs": [],
   "source": [
    "# Load the OKpy test library and tests.\n",
    "from client.api.notebook import Notebook\n",
    "ok = Notebook('money_death.ok')"
   ]
  },
  {
   "cell_type": "markdown",
   "id": "b420bba1",
   "metadata": {},
   "source": [
    "In this case, we are going to analyze whether people with higher incomes are\n",
    "more likely to favor the death penalty.\n",
    "\n",
    "To do this, we are going to analyze the results from a sample of the US\n",
    "[General Social Survey](http://www.gss.norc.org) from 2002.\n",
    "\n",
    "Make sure you have the data file [GSS2002.csv](https://lisds.github.io/textbook/data/GSS2002.csv) in the same directory as this notebook.  This should be true if you unpacked the exercise zip file."
   ]
  },
  {
   "cell_type": "code",
   "execution_count": 3,
   "id": "37e0d94a",
   "metadata": {
    "execution": {
     "iopub.execute_input": "2023-02-07T12:44:17.881788Z",
     "iopub.status.busy": "2023-02-07T12:44:17.881632Z",
     "iopub.status.idle": "2023-02-07T12:44:17.900765Z",
     "shell.execute_reply": "2023-02-07T12:44:17.900400Z"
    }
   },
   "outputs": [],
   "source": [
    "# Read the data into a data frame\n",
    "gss = pd.read_csv('GSS2002.csv')\n",
    "# Show the first 5 rows.\n",
    "gss.head()"
   ]
  },
  {
   "cell_type": "markdown",
   "id": "e778245a",
   "metadata": {},
   "source": [
    "Each row corresponds to a single respondent.\n",
    "\n",
    "Show the column names:"
   ]
  },
  {
   "cell_type": "code",
   "execution_count": 4,
   "id": "f9dc92bb",
   "metadata": {
    "execution": {
     "iopub.execute_input": "2023-02-07T12:44:17.902645Z",
     "iopub.status.busy": "2023-02-07T12:44:17.902503Z",
     "iopub.status.idle": "2023-02-07T12:44:17.905183Z",
     "shell.execute_reply": "2023-02-07T12:44:17.904867Z"
    }
   },
   "outputs": [],
   "source": [
    "gss.columns"
   ]
  },
  {
   "cell_type": "markdown",
   "id": "f931009d",
   "metadata": {},
   "source": [
    "We want to work with only two columns from this data frame.  These are\n",
    "\"Income\", and \"DeathPenalty\".\n",
    "\n",
    "\"Income\" gives the income bracket of the respondent.  \"DeathPenalty\" is the\n",
    "answer to a question about whether they \"Favor\" or \"Oppose\" the death penalty.\n",
    "\n",
    "Start by making a data frame `money_death` that only has the columns \"Income\" and \"DeathPenalty\" from `gss`.\n",
    "\n",
    "**Hint**: make a new empty data frame called `money_death`.  Get the columns\n",
    "\"Income\" and \"DeathPenalty\" from the `gss` data frame, and insert them into\n",
    "`money_death`.  See the [data frames, series, arrays page](https://lisds.github.io/textbook/data-frames/df_series_arrays)."
   ]
  },
  {
   "cell_type": "code",
   "execution_count": 5,
   "id": "a8f8d4bb",
   "metadata": {
    "execution": {
     "iopub.execute_input": "2023-02-07T12:44:17.907013Z",
     "iopub.status.busy": "2023-02-07T12:44:17.906876Z",
     "iopub.status.idle": "2023-02-07T12:44:17.911887Z",
     "shell.execute_reply": "2023-02-07T12:44:17.911542Z"
    }
   },
   "outputs": [],
   "source": [
    "money_death = pd.DataFrame()\n",
    "money_death['Income'] = gss['Income']\n",
    "money_death['DeathPenalty'] = gss['DeathPenalty']\n",
    "# Show the result\n",
    "money_death.head()"
   ]
  },
  {
   "cell_type": "code",
   "execution_count": 6,
   "id": "406668ab",
   "metadata": {
    "execution": {
     "iopub.execute_input": "2023-02-07T12:44:17.913685Z",
     "iopub.status.busy": "2023-02-07T12:44:17.913533Z",
     "iopub.status.idle": "2023-02-07T12:44:17.927079Z",
     "shell.execute_reply": "2023-02-07T12:44:17.926698Z"
    }
   },
   "outputs": [],
   "source": [
    "_ = ok.grade('q_1_money_death')"
   ]
  },
  {
   "cell_type": "markdown",
   "id": "0ab80c4d",
   "metadata": {},
   "source": [
    "There are many missing question responses, indicated by `NaN`.  To make our\n",
    "life easier, we drop the respondents who didn't specify an income bracket, and\n",
    "those who did not give an answer to the death penalty question.  Pandas\n",
    "`dropna` method of the data frame does this job. It drops all rows that have\n",
    "any missing values in the row.  Check the help for the `money_death.dropna`\n",
    "method with `money_death.dropna?` in a new cell."
   ]
  },
  {
   "cell_type": "code",
   "execution_count": 7,
   "id": "f1318f5b",
   "metadata": {
    "execution": {
     "iopub.execute_input": "2023-02-07T12:44:17.930578Z",
     "iopub.status.busy": "2023-02-07T12:44:17.930440Z",
     "iopub.status.idle": "2023-02-07T12:44:17.935544Z",
     "shell.execute_reply": "2023-02-07T12:44:17.935197Z"
    }
   },
   "outputs": [],
   "source": [
    "complete_md = money_death.dropna()\n",
    "complete_md.head()"
   ]
  },
  {
   "cell_type": "code",
   "execution_count": 8,
   "id": "45bd0361",
   "metadata": {
    "execution": {
     "iopub.execute_input": "2023-02-07T12:44:17.937364Z",
     "iopub.status.busy": "2023-02-07T12:44:17.937215Z",
     "iopub.status.idle": "2023-02-07T12:44:17.945768Z",
     "shell.execute_reply": "2023-02-07T12:44:17.945422Z"
    },
    "lines_to_next_cell": 2
   },
   "outputs": [],
   "source": [
    "_ = ok.grade('q_2_complete_md')"
   ]
  },
  {
   "cell_type": "markdown",
   "id": "c8e3f7d7",
   "metadata": {},
   "source": [
    "Put the income column of `complete_md` into its own variable:"
   ]
  },
  {
   "cell_type": "code",
   "execution_count": 9,
   "id": "2e957f27",
   "metadata": {
    "execution": {
     "iopub.execute_input": "2023-02-07T12:44:17.949393Z",
     "iopub.status.busy": "2023-02-07T12:44:17.949258Z",
     "iopub.status.idle": "2023-02-07T12:44:17.952268Z",
     "shell.execute_reply": "2023-02-07T12:44:17.951964Z"
    }
   },
   "outputs": [],
   "source": [
    "income = complete_md['Income']\n",
    "income.head()"
   ]
  },
  {
   "cell_type": "code",
   "execution_count": 10,
   "id": "aad0772e",
   "metadata": {
    "execution": {
     "iopub.execute_input": "2023-02-07T12:44:17.954091Z",
     "iopub.status.busy": "2023-02-07T12:44:17.953978Z",
     "iopub.status.idle": "2023-02-07T12:44:17.963481Z",
     "shell.execute_reply": "2023-02-07T12:44:17.963115Z"
    },
    "lines_to_next_cell": 2
   },
   "outputs": [],
   "source": [
    "_ = ok.grade('q_3_income')"
   ]
  },
  {
   "cell_type": "markdown",
   "id": "0f08a5b4",
   "metadata": {},
   "source": [
    "Use the `value_counts` method of the `income` Series to show the unique values and their counts."
   ]
  },
  {
   "cell_type": "code",
   "execution_count": 11,
   "id": "12dc8122",
   "metadata": {
    "execution": {
     "iopub.execute_input": "2023-02-07T12:44:17.966684Z",
     "iopub.status.busy": "2023-02-07T12:44:17.966547Z",
     "iopub.status.idle": "2023-02-07T12:44:17.969800Z",
     "shell.execute_reply": "2023-02-07T12:44:17.969445Z"
    }
   },
   "outputs": [],
   "source": [
    "income.value_counts()"
   ]
  },
  {
   "cell_type": "markdown",
   "id": "686e2323",
   "metadata": {},
   "source": [
    "The elements in this series are strings.  We want to get income as a number.\n",
    "We estimate this by *recoding* the \"Income\" column.  We replace the string,\n",
    "giving the income bracket, with the average of the minimum and maximum in the\n",
    "range.\n",
    "\n",
    "We can do this with a *recoder function*.  We have not covered writing your own\n",
    "functions yet, so do not worry about the details of this function."
   ]
  },
  {
   "cell_type": "code",
   "execution_count": 12,
   "id": "e5ecbbdd",
   "metadata": {
    "execution": {
     "iopub.execute_input": "2023-02-07T12:44:17.971598Z",
     "iopub.status.busy": "2023-02-07T12:44:17.971492Z",
     "iopub.status.idle": "2023-02-07T12:44:17.973921Z",
     "shell.execute_reply": "2023-02-07T12:44:17.973599Z"
    }
   },
   "outputs": [],
   "source": [
    "# Just run this cell\n",
    "def recode_income(value):\n",
    "    if value == 'under 1000':\n",
    "        return 500\n",
    "    low_str, high_str = value.split('-')\n",
    "    low, high = int(low_str), int(high_str)\n",
    "    return np.mean([low, high])"
   ]
  },
  {
   "cell_type": "markdown",
   "id": "502b1f5c",
   "metadata": {},
   "source": [
    "Here is what the recoder function gives with the lowest income bracket."
   ]
  },
  {
   "cell_type": "code",
   "execution_count": 13,
   "id": "ab369431",
   "metadata": {
    "execution": {
     "iopub.execute_input": "2023-02-07T12:44:17.975746Z",
     "iopub.status.busy": "2023-02-07T12:44:17.975638Z",
     "iopub.status.idle": "2023-02-07T12:44:17.978160Z",
     "shell.execute_reply": "2023-02-07T12:44:17.977826Z"
    }
   },
   "outputs": [],
   "source": [
    "recode_income('under 1000')"
   ]
  },
  {
   "cell_type": "markdown",
   "id": "cd47bc97",
   "metadata": {},
   "source": [
    "Here is what it gives for a higher bracket:"
   ]
  },
  {
   "cell_type": "code",
   "execution_count": 14,
   "id": "2d19ff23",
   "metadata": {
    "execution": {
     "iopub.execute_input": "2023-02-07T12:44:17.979926Z",
     "iopub.status.busy": "2023-02-07T12:44:17.979787Z",
     "iopub.status.idle": "2023-02-07T12:44:17.982224Z",
     "shell.execute_reply": "2023-02-07T12:44:17.981907Z"
    }
   },
   "outputs": [],
   "source": [
    "recode_income('90000-109999')"
   ]
  },
  {
   "cell_type": "markdown",
   "id": "bb099817",
   "metadata": {},
   "source": [
    "The cell below uses this function to recode the \"Income\" strings into numbers.\n",
    "Again, we have not covered the `apply` method yet, so don't worry about the\n",
    "details."
   ]
  },
  {
   "cell_type": "code",
   "execution_count": 15,
   "id": "e233646d",
   "metadata": {
    "execution": {
     "iopub.execute_input": "2023-02-07T12:44:17.984074Z",
     "iopub.status.busy": "2023-02-07T12:44:17.983931Z",
     "iopub.status.idle": "2023-02-07T12:44:17.991781Z",
     "shell.execute_reply": "2023-02-07T12:44:17.991461Z"
    }
   },
   "outputs": [],
   "source": [
    "# Run this cell.\n",
    "income_ish = income.apply(recode_income)\n",
    "income_ish.head()"
   ]
  },
  {
   "cell_type": "code",
   "execution_count": 16,
   "id": "a315a2f0",
   "metadata": {
    "execution": {
     "iopub.execute_input": "2023-02-07T12:44:17.993605Z",
     "iopub.status.busy": "2023-02-07T12:44:17.993454Z",
     "iopub.status.idle": "2023-02-07T12:44:18.000654Z",
     "shell.execute_reply": "2023-02-07T12:44:18.000306Z"
    }
   },
   "outputs": [],
   "source": [
    "# This test makes sure you've run the cells above correctly.\n",
    "_ = ok.grade('q_4_income_ish')"
   ]
  },
  {
   "cell_type": "markdown",
   "id": "b5812e8e",
   "metadata": {},
   "source": [
    "Next put the column containing the answers to the death penalty question into\n",
    "its own variable `death`:"
   ]
  },
  {
   "cell_type": "code",
   "execution_count": 17,
   "id": "9af9bb5e",
   "metadata": {
    "execution": {
     "iopub.execute_input": "2023-02-07T12:44:18.003877Z",
     "iopub.status.busy": "2023-02-07T12:44:18.003738Z",
     "iopub.status.idle": "2023-02-07T12:44:18.007588Z",
     "shell.execute_reply": "2023-02-07T12:44:18.007257Z"
    }
   },
   "outputs": [],
   "source": [
    "death = complete_md['DeathPenalty']\n",
    "# Show the unique values with their counts.\n",
    "death.value_counts()"
   ]
  },
  {
   "cell_type": "code",
   "execution_count": 18,
   "id": "8e0e0d46",
   "metadata": {
    "execution": {
     "iopub.execute_input": "2023-02-07T12:44:18.009939Z",
     "iopub.status.busy": "2023-02-07T12:44:18.009828Z",
     "iopub.status.idle": "2023-02-07T12:44:18.019184Z",
     "shell.execute_reply": "2023-02-07T12:44:18.018776Z"
    }
   },
   "outputs": [],
   "source": [
    "_ = ok.grade('q_5_death')"
   ]
  },
  {
   "cell_type": "markdown",
   "id": "807c05ed",
   "metadata": {},
   "source": [
    "In the next few cells, you make two new Pandas Series.  One, `favor_income`,\n",
    "contains the recoded income values `income_ish` corresponding to respondents\n",
    "who have a `death` value of `Favor`.\n",
    "\n",
    "The other, `oppose_income`, has the recoded income values corresponding to those with `Oppose` values in `death`.\n",
    "\n",
    "**Hint** - as ever, make a Boolean series of True / False values corresponding\n",
    "to rows you want.  Use that series to select the rows from `income_ish`."
   ]
  },
  {
   "cell_type": "code",
   "execution_count": 19,
   "id": "55101bb1",
   "metadata": {
    "execution": {
     "iopub.execute_input": "2023-02-07T12:44:18.022468Z",
     "iopub.status.busy": "2023-02-07T12:44:18.022332Z",
     "iopub.status.idle": "2023-02-07T12:44:18.135719Z",
     "shell.execute_reply": "2023-02-07T12:44:18.135362Z"
    }
   },
   "outputs": [],
   "source": [
    "favor_income = income_ish[death == 'Favor']\n",
    "# Show a histogram of the in-favor income values.\n",
    "favor_income.hist();"
   ]
  },
  {
   "cell_type": "code",
   "execution_count": 20,
   "id": "84df830e",
   "metadata": {
    "execution": {
     "iopub.execute_input": "2023-02-07T12:44:18.137611Z",
     "iopub.status.busy": "2023-02-07T12:44:18.137465Z",
     "iopub.status.idle": "2023-02-07T12:44:18.148701Z",
     "shell.execute_reply": "2023-02-07T12:44:18.148244Z"
    },
    "lines_to_next_cell": 2
   },
   "outputs": [],
   "source": [
    "_ = ok.grade('q_6_favor_income')"
   ]
  },
  {
   "cell_type": "markdown",
   "id": "79aa3e62",
   "metadata": {},
   "source": [
    "Likewise select incomes for those opposed.   Show the distribution."
   ]
  },
  {
   "cell_type": "code",
   "execution_count": 21,
   "id": "794728af",
   "metadata": {
    "execution": {
     "iopub.execute_input": "2023-02-07T12:44:18.152391Z",
     "iopub.status.busy": "2023-02-07T12:44:18.152235Z",
     "iopub.status.idle": "2023-02-07T12:44:18.250187Z",
     "shell.execute_reply": "2023-02-07T12:44:18.249815Z"
    }
   },
   "outputs": [],
   "source": [
    "oppose_income = income_ish[death == 'Oppose']\n",
    "# Show a histogram of the oppose income values.\n",
    "oppose_income.hist();"
   ]
  },
  {
   "cell_type": "code",
   "execution_count": 22,
   "id": "397779d2",
   "metadata": {
    "execution": {
     "iopub.execute_input": "2023-02-07T12:44:18.252122Z",
     "iopub.status.busy": "2023-02-07T12:44:18.251968Z",
     "iopub.status.idle": "2023-02-07T12:44:18.262253Z",
     "shell.execute_reply": "2023-02-07T12:44:18.261788Z"
    }
   },
   "outputs": [],
   "source": [
    "_ = ok.grade('q_7_oppose_income')"
   ]
  },
  {
   "cell_type": "markdown",
   "id": "3de11c4d",
   "metadata": {},
   "source": [
    "Calculate the difference in mean income between the groups.  This is the\n",
    "difference we observe."
   ]
  },
  {
   "cell_type": "code",
   "execution_count": 23,
   "id": "d4c6b51e",
   "metadata": {
    "execution": {
     "iopub.execute_input": "2023-02-07T12:44:18.265790Z",
     "iopub.status.busy": "2023-02-07T12:44:18.265647Z",
     "iopub.status.idle": "2023-02-07T12:44:18.268776Z",
     "shell.execute_reply": "2023-02-07T12:44:18.268467Z"
    }
   },
   "outputs": [],
   "source": [
    "actual_diff = np.mean(favor_income) - np.mean(oppose_income)\n",
    "actual_diff"
   ]
  },
  {
   "cell_type": "code",
   "execution_count": 24,
   "id": "965b29ba",
   "metadata": {
    "execution": {
     "iopub.execute_input": "2023-02-07T12:44:18.270538Z",
     "iopub.status.busy": "2023-02-07T12:44:18.270419Z",
     "iopub.status.idle": "2023-02-07T12:44:18.279901Z",
     "shell.execute_reply": "2023-02-07T12:44:18.279461Z"
    }
   },
   "outputs": [],
   "source": [
    "_ = ok.grade('q_8_actual_diff')"
   ]
  },
  {
   "cell_type": "markdown",
   "id": "4957c12c",
   "metadata": {},
   "source": [
    "We want to know whether this difference in income is compatible with random\n",
    "sampling. That is, we want to know whether a difference this large is\n",
    "plausible, if the incomes are in fact random samples from the same population.\n",
    "\n",
    "To estimate how variable the mean differences can be, for such random sampling,\n",
    "we simulate this sampling by pooling the income values that we have, from the\n",
    "two groups, and the permuting them.\n",
    "\n",
    "First, we get the number of respondents in favor of the death penalty."
   ]
  },
  {
   "cell_type": "code",
   "execution_count": 25,
   "id": "0a495584",
   "metadata": {
    "execution": {
     "iopub.execute_input": "2023-02-07T12:44:18.283372Z",
     "iopub.status.busy": "2023-02-07T12:44:18.283233Z",
     "iopub.status.idle": "2023-02-07T12:44:18.285746Z",
     "shell.execute_reply": "2023-02-07T12:44:18.285431Z"
    }
   },
   "outputs": [],
   "source": [
    "n_favor = len(favor_income)\n",
    "n_favor"
   ]
  },
  {
   "cell_type": "code",
   "execution_count": 26,
   "id": "7ad81d94",
   "metadata": {
    "execution": {
     "iopub.execute_input": "2023-02-07T12:44:18.287554Z",
     "iopub.status.busy": "2023-02-07T12:44:18.287409Z",
     "iopub.status.idle": "2023-02-07T12:44:18.296018Z",
     "shell.execute_reply": "2023-02-07T12:44:18.295653Z"
    },
    "lines_to_next_cell": 2
   },
   "outputs": [],
   "source": [
    "_ = ok.grade('q_9_n_favor')"
   ]
  },
  {
   "cell_type": "markdown",
   "id": "3f0dccde",
   "metadata": {},
   "source": [
    "Then we pool the income values for the in-favor and oppose groups."
   ]
  },
  {
   "cell_type": "code",
   "execution_count": 27,
   "id": "b6295bde",
   "metadata": {
    "execution": {
     "iopub.execute_input": "2023-02-07T12:44:18.299581Z",
     "iopub.status.busy": "2023-02-07T12:44:18.299445Z",
     "iopub.status.idle": "2023-02-07T12:44:18.302294Z",
     "shell.execute_reply": "2023-02-07T12:44:18.301939Z"
    }
   },
   "outputs": [],
   "source": [
    "# Concatenate the in-favor and opposed incomes.\n",
    "pooled = np.concatenate([favor_income, oppose_income])\n",
    "# Show the first 10 values before shuffling.\n",
    "pooled[:10]"
   ]
  },
  {
   "cell_type": "markdown",
   "id": "8580ad29",
   "metadata": {},
   "source": [
    "To do the random sampling we permute the values, so the `pooled` vector is a\n",
    "random mixture of the two groups."
   ]
  },
  {
   "cell_type": "code",
   "execution_count": 28,
   "id": "dcccbd93",
   "metadata": {
    "execution": {
     "iopub.execute_input": "2023-02-07T12:44:18.304079Z",
     "iopub.status.busy": "2023-02-07T12:44:18.303932Z",
     "iopub.status.idle": "2023-02-07T12:44:18.306648Z",
     "shell.execute_reply": "2023-02-07T12:44:18.306308Z"
    }
   },
   "outputs": [],
   "source": [
    "shuffled = rng.permutation(pooled)\n",
    "# Show the first 10 values after shuffling.\n",
    "shuffled[:10]"
   ]
  },
  {
   "cell_type": "markdown",
   "id": "31df1997",
   "metadata": {},
   "source": [
    "Treat the first `n_favor` observations from this shuffled vector as our\n",
    "simulated in-favor group.  The rest are our simulated oppose\n",
    "group."
   ]
  },
  {
   "cell_type": "code",
   "execution_count": 29,
   "id": "3ae0cc62",
   "metadata": {
    "execution": {
     "iopub.execute_input": "2023-02-07T12:44:18.308494Z",
     "iopub.status.busy": "2023-02-07T12:44:18.308350Z",
     "iopub.status.idle": "2023-02-07T12:44:18.310297Z",
     "shell.execute_reply": "2023-02-07T12:44:18.309930Z"
    }
   },
   "outputs": [],
   "source": [
    "fake_favor = shuffled[:n_favor]\n",
    "fake_oppose = shuffled[n_favor:]"
   ]
  },
  {
   "cell_type": "markdown",
   "id": "dbd73905",
   "metadata": {},
   "source": [
    "Calculate the difference in means for this simulation."
   ]
  },
  {
   "cell_type": "code",
   "execution_count": 30,
   "id": "7be08ae9",
   "metadata": {
    "execution": {
     "iopub.execute_input": "2023-02-07T12:44:18.312126Z",
     "iopub.status.busy": "2023-02-07T12:44:18.311995Z",
     "iopub.status.idle": "2023-02-07T12:44:18.314696Z",
     "shell.execute_reply": "2023-02-07T12:44:18.314373Z"
    }
   },
   "outputs": [],
   "source": [
    "fake_diff = np.mean(fake_favor) - np.mean(fake_oppose)\n",
    "fake_diff"
   ]
  },
  {
   "cell_type": "markdown",
   "id": "65a4a321",
   "metadata": {},
   "source": [
    "Now it is your turn.   Do this simulation 10000 times, to build up the\n",
    "distribution of differences compatible with random sampling."
   ]
  },
  {
   "cell_type": "code",
   "execution_count": 31,
   "id": "55744f27",
   "metadata": {
    "execution": {
     "iopub.execute_input": "2023-02-07T12:44:18.316566Z",
     "iopub.status.busy": "2023-02-07T12:44:18.316427Z",
     "iopub.status.idle": "2023-02-07T12:44:18.535714Z",
     "shell.execute_reply": "2023-02-07T12:44:18.535401Z"
    }
   },
   "outputs": [],
   "source": [
    "fake_differences = np.zeros(10000)\n",
    "for i in np.arange(10000):\n",
    "    #- Permute the pooled incomes\n",
    "    shuffled = rng.permutation(pooled)\n",
    "    #- Make a fake favor sample\n",
    "    fake_favor = shuffled[:n_favor]\n",
    "    #- Make a fake opposed sample\n",
    "    fake_oppose = shuffled[n_favor:]\n",
    "    #- Calculate the mean difference for the fake samples\n",
    "    fake_diff = np.mean(fake_favor) - np.mean(fake_oppose)\n",
    "    #- Put the mean difference into the fake_differences array.\n",
    "    fake_differences[i] = fake_diff\n",
    "# Show the first 10 fake differences\n",
    "fake_differences[:10]"
   ]
  },
  {
   "cell_type": "code",
   "execution_count": 32,
   "id": "f512f96a",
   "metadata": {
    "execution": {
     "iopub.execute_input": "2023-02-07T12:44:18.537443Z",
     "iopub.status.busy": "2023-02-07T12:44:18.537306Z",
     "iopub.status.idle": "2023-02-07T12:44:18.546512Z",
     "shell.execute_reply": "2023-02-07T12:44:18.546153Z"
    }
   },
   "outputs": [],
   "source": [
    "_ = ok.grade('q_10_fake_differences')"
   ]
  },
  {
   "cell_type": "markdown",
   "id": "653f5964",
   "metadata": {},
   "source": [
    "When you have that working, do a histogram of the differences."
   ]
  },
  {
   "cell_type": "code",
   "execution_count": 33,
   "id": "6ec2de38",
   "metadata": {
    "execution": {
     "iopub.execute_input": "2023-02-07T12:44:18.549956Z",
     "iopub.status.busy": "2023-02-07T12:44:18.549822Z",
     "iopub.status.idle": "2023-02-07T12:44:18.645788Z",
     "shell.execute_reply": "2023-02-07T12:44:18.645443Z"
    }
   },
   "outputs": [],
   "source": [
    "plt.hist(fake_differences)"
   ]
  },
  {
   "cell_type": "markdown",
   "id": "1d8c99e9",
   "metadata": {},
   "source": [
    "You can get an idea of where the actual difference we saw sits on this\n",
    "histogram, and therefore how likely that difference is, assuming the incomes\n",
    "come from the same underlying population of incomes.\n",
    "\n",
    "To be more specific, show the proportion of the differences you calculated that\n",
    "were greater than or equal to the actual difference."
   ]
  },
  {
   "cell_type": "code",
   "execution_count": 34,
   "id": "88a74c6c",
   "metadata": {
    "execution": {
     "iopub.execute_input": "2023-02-07T12:44:18.647670Z",
     "iopub.status.busy": "2023-02-07T12:44:18.647515Z",
     "iopub.status.idle": "2023-02-07T12:44:18.650344Z",
     "shell.execute_reply": "2023-02-07T12:44:18.650001Z"
    }
   },
   "outputs": [],
   "source": [
    "p_fake_ge_actual = np.count_nonzero(fake_differences >= actual_diff) / 10000\n",
    "p_fake_ge_actual"
   ]
  },
  {
   "cell_type": "code",
   "execution_count": 35,
   "id": "ed49cee6",
   "metadata": {
    "execution": {
     "iopub.execute_input": "2023-02-07T12:44:18.652150Z",
     "iopub.status.busy": "2023-02-07T12:44:18.652005Z",
     "iopub.status.idle": "2023-02-07T12:44:18.662496Z",
     "shell.execute_reply": "2023-02-07T12:44:18.662046Z"
    }
   },
   "outputs": [],
   "source": [
    "_ = ok.grade('q_11_p_fake_ge_actual')"
   ]
  },
  {
   "cell_type": "markdown",
   "id": "1515c255",
   "metadata": {},
   "source": [
    "This proportion gives an estimate of the probability of seeing a difference\n",
    "this large, if the incomes all come from the same underlying population."
   ]
  },
  {
   "cell_type": "markdown",
   "id": "2cf8fc99",
   "metadata": {},
   "source": [
    "## Done"
   ]
  },
  {
   "cell_type": "code",
   "execution_count": 36,
   "id": "be542d5b",
   "metadata": {
    "execution": {
     "iopub.execute_input": "2023-02-07T12:44:18.665685Z",
     "iopub.status.busy": "2023-02-07T12:44:18.665544Z",
     "iopub.status.idle": "2023-02-07T12:44:18.749074Z",
     "shell.execute_reply": "2023-02-07T12:44:18.748724Z"
    }
   },
   "outputs": [],
   "source": [
    "# For your convenience, you can run this cell to run all the tests at once!\n",
    "import os\n",
    "_ = [ok.grade(q[:-3]) for q in os.listdir(\"tests\") if q.startswith('q')]"
   ]
  }
 ],
 "metadata": {
  "jupytext": {
   "split_at_heading": true,
   "text_representation": {
    "extension": ".Rmd",
    "format_name": "rmarkdown",
    "format_version": "1.1",
    "jupytext_version": "1.2.4"
   }
  },
  "kernelspec": {
   "display_name": "Python 3",
   "language": "python",
   "name": "python3"
  },
  "language_info": {
   "codemirror_mode": {
    "name": "ipython",
    "version": 3
   },
   "file_extension": ".py",
   "mimetype": "text/x-python",
   "name": "python",
   "nbconvert_exporter": "python",
   "pygments_lexer": "ipython3",
   "version": "3.10.9"
  }
 },
 "nbformat": 4,
 "nbformat_minor": 5
}
