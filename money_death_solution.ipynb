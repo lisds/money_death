{
 "cells": [
  {
   "cell_type": "markdown",
   "id": "5db24617",
   "metadata": {},
   "source": [
    "# Money and death\n",
    "\n",
    "\n",
    "\n",
    "We return to the death penalty."
   ]
  },
  {
   "cell_type": "code",
   "execution_count": 1,
   "id": "4f1388a3",
   "metadata": {
    "execution": {
     "iopub.execute_input": "2022-10-31T08:53:04.392865Z",
     "iopub.status.busy": "2022-10-31T08:53:04.392498Z",
     "iopub.status.idle": "2022-10-31T08:53:05.414547Z",
     "shell.execute_reply": "2022-10-31T08:53:05.414118Z"
    }
   },
   "outputs": [],
   "source": [
    "# Array library.\n",
    "import numpy as np\n",
    "\n",
    "# A Numpy random number generator.\n",
    "rng = np.random.default_rng()\n",
    "\n",
    "# Data frames library.\n",
    "import pandas as pd\n",
    "\n",
    "# Set up plotting\n",
    "import matplotlib.pyplot as plt\n",
    "plt.style.use('fivethirtyeight')"
   ]
  },
  {
   "cell_type": "code",
   "execution_count": 2,
   "id": "5e012676",
   "metadata": {
    "execution": {
     "iopub.execute_input": "2022-10-31T08:53:05.416974Z",
     "iopub.status.busy": "2022-10-31T08:53:05.416766Z",
     "iopub.status.idle": "2022-10-31T08:53:05.542412Z",
     "shell.execute_reply": "2022-10-31T08:53:05.542003Z"
    }
   },
   "outputs": [],
   "source": [
    "# Load the OKpy test library and tests.\n",
    "from client.api.notebook import Notebook\n",
    "ok = Notebook('money_death.ok')"
   ]
  },
  {
   "cell_type": "markdown",
   "id": "b17ebba0",
   "metadata": {},
   "source": [
    "In this case, we are going to analyze whether people with higher incomes are\n",
    "more likely to favor the death penalty.\n",
    "\n",
    "To do this, we are going to analyze the results from a sample of the US\n",
    "[General Social Survey](http://www.gss.norc.org) from 2002.\n",
    "\n",
    "Make sure you have the data file [GSS2002.csv](https://lisds.github.io/textbook/data/GSS2002.csv) in the same directory as this notebook.  This should be true if you unpacked the exercise zip file."
   ]
  },
  {
   "cell_type": "code",
   "execution_count": 3,
   "id": "d977a620",
   "metadata": {
    "execution": {
     "iopub.execute_input": "2022-10-31T08:53:05.544620Z",
     "iopub.status.busy": "2022-10-31T08:53:05.544470Z",
     "iopub.status.idle": "2022-10-31T08:53:05.569108Z",
     "shell.execute_reply": "2022-10-31T08:53:05.568757Z"
    }
   },
   "outputs": [],
   "source": [
    "# Read the data into a data frame\n",
    "gss = pd.read_csv('GSS2002.csv')\n",
    "# Show the first 5 rows.\n",
    "gss.head()"
   ]
  },
  {
   "cell_type": "markdown",
   "id": "7a18ee2e",
   "metadata": {},
   "source": [
    "Each row corresponds to a single respondent.\n",
    "\n",
    "Show the column names:"
   ]
  },
  {
   "cell_type": "code",
   "execution_count": 4,
   "id": "5a68d942",
   "metadata": {
    "execution": {
     "iopub.execute_input": "2022-10-31T08:53:05.571095Z",
     "iopub.status.busy": "2022-10-31T08:53:05.570949Z",
     "iopub.status.idle": "2022-10-31T08:53:05.573670Z",
     "shell.execute_reply": "2022-10-31T08:53:05.573360Z"
    }
   },
   "outputs": [],
   "source": [
    "gss.columns"
   ]
  },
  {
   "cell_type": "markdown",
   "id": "e0605ee3",
   "metadata": {},
   "source": [
    "We want to work with only two columns from this data frame.  These are\n",
    "\"Income\", and \"DeathPenalty\".\n",
    "\n",
    "\"Income\" gives the income bracket of the respondent.  \"DeathPenalty\" is the\n",
    "answer to a question about whether they \"Favor\" or \"Oppose\" the death penalty.\n",
    "\n",
    "Start by making a data frame `money_death` that only has the columns \"Income\" and \"DeathPenalty\" from `gss`.\n",
    "\n",
    "**Hint**: make a new empty data frame called `money_death`.  Get the columns\n",
    "\"Income\" and \"DeathPenalty\" from the `gss` data frame, and insert them into\n",
    "`money_death`.  See the [data frames, series, arrays page](https://lisds.github.io/textbook/data-frames/df_series_arrays)."
   ]
  },
  {
   "cell_type": "code",
   "execution_count": 5,
   "id": "172c475f",
   "metadata": {
    "execution": {
     "iopub.execute_input": "2022-10-31T08:53:05.575635Z",
     "iopub.status.busy": "2022-10-31T08:53:05.575393Z",
     "iopub.status.idle": "2022-10-31T08:53:05.580967Z",
     "shell.execute_reply": "2022-10-31T08:53:05.580644Z"
    }
   },
   "outputs": [],
   "source": [
    "money_death = pd.DataFrame()\n",
    "money_death['Income'] = gss['Income']\n",
    "money_death['DeathPenalty'] = gss['DeathPenalty']\n",
    "# Show the result\n",
    "money_death.head()"
   ]
  },
  {
   "cell_type": "code",
   "execution_count": 6,
   "id": "7da65f1c",
   "metadata": {
    "execution": {
     "iopub.execute_input": "2022-10-31T08:53:05.582719Z",
     "iopub.status.busy": "2022-10-31T08:53:05.582576Z",
     "iopub.status.idle": "2022-10-31T08:53:05.632226Z",
     "shell.execute_reply": "2022-10-31T08:53:05.631848Z"
    }
   },
   "outputs": [],
   "source": [
    "_ = ok.grade('q_1_money_death')"
   ]
  },
  {
   "cell_type": "markdown",
   "id": "104d1329",
   "metadata": {},
   "source": [
    "There are many missing question responses, indicated by `NaN`.  To make our\n",
    "life easier, we drop the respondents who didn't specify an income bracket, and\n",
    "those who did not give an answer to the death penalty question.  Pandas\n",
    "`dropna` method of the data frame does this job. It drops all rows that have\n",
    "any missing values in the row.  Check the help for the `money_death.dropna`\n",
    "method with `money_death.dropna?` in a new cell."
   ]
  },
  {
   "cell_type": "code",
   "execution_count": 7,
   "id": "4e043354",
   "metadata": {
    "execution": {
     "iopub.execute_input": "2022-10-31T08:53:05.636126Z",
     "iopub.status.busy": "2022-10-31T08:53:05.635981Z",
     "iopub.status.idle": "2022-10-31T08:53:05.641488Z",
     "shell.execute_reply": "2022-10-31T08:53:05.641179Z"
    }
   },
   "outputs": [],
   "source": [
    "complete_md = money_death.dropna()\n",
    "complete_md.head()"
   ]
  },
  {
   "cell_type": "code",
   "execution_count": 8,
   "id": "a1ef1da7",
   "metadata": {
    "execution": {
     "iopub.execute_input": "2022-10-31T08:53:05.643280Z",
     "iopub.status.busy": "2022-10-31T08:53:05.643126Z",
     "iopub.status.idle": "2022-10-31T08:53:05.651495Z",
     "shell.execute_reply": "2022-10-31T08:53:05.651139Z"
    },
    "lines_to_next_cell": 2
   },
   "outputs": [],
   "source": [
    "_ = ok.grade('q_2_complete_md')"
   ]
  },
  {
   "cell_type": "markdown",
   "id": "4618d084",
   "metadata": {},
   "source": [
    "Put the income column of `complete_md` into its own variable:"
   ]
  },
  {
   "cell_type": "code",
   "execution_count": 9,
   "id": "f51033b1",
   "metadata": {
    "execution": {
     "iopub.execute_input": "2022-10-31T08:53:05.655342Z",
     "iopub.status.busy": "2022-10-31T08:53:05.655202Z",
     "iopub.status.idle": "2022-10-31T08:53:05.658200Z",
     "shell.execute_reply": "2022-10-31T08:53:05.657873Z"
    }
   },
   "outputs": [],
   "source": [
    "income = complete_md['Income']\n",
    "income.head()"
   ]
  },
  {
   "cell_type": "code",
   "execution_count": 10,
   "id": "82abab82",
   "metadata": {
    "execution": {
     "iopub.execute_input": "2022-10-31T08:53:05.659949Z",
     "iopub.status.busy": "2022-10-31T08:53:05.659811Z",
     "iopub.status.idle": "2022-10-31T08:53:05.669469Z",
     "shell.execute_reply": "2022-10-31T08:53:05.669105Z"
    },
    "lines_to_next_cell": 2
   },
   "outputs": [],
   "source": [
    "_ = ok.grade('q_3_income')"
   ]
  },
  {
   "cell_type": "markdown",
   "id": "71ba5717",
   "metadata": {},
   "source": [
    "Use the `value_counts` method of the `income` Series to show the unique values and their counts."
   ]
  },
  {
   "cell_type": "code",
   "execution_count": 11,
   "id": "d4a029e8",
   "metadata": {
    "execution": {
     "iopub.execute_input": "2022-10-31T08:53:05.672930Z",
     "iopub.status.busy": "2022-10-31T08:53:05.672793Z",
     "iopub.status.idle": "2022-10-31T08:53:05.677173Z",
     "shell.execute_reply": "2022-10-31T08:53:05.676859Z"
    }
   },
   "outputs": [],
   "source": [
    "income.value_counts()"
   ]
  },
  {
   "cell_type": "markdown",
   "id": "badd3492",
   "metadata": {},
   "source": [
    "The elements in this series are strings.  We want to get income as a number.\n",
    "We estimate this by *recoding* the \"Income\" column.  We replace the string,\n",
    "giving the income bracket, with the average of the minimum and maximum in the\n",
    "range.\n",
    "\n",
    "We can do this with a *recoder function*.  We have not covered writing your own\n",
    "functions yet, so do not worry about the details of this function."
   ]
  },
  {
   "cell_type": "code",
   "execution_count": 12,
   "id": "93a57a2e",
   "metadata": {
    "execution": {
     "iopub.execute_input": "2022-10-31T08:53:05.679030Z",
     "iopub.status.busy": "2022-10-31T08:53:05.678889Z",
     "iopub.status.idle": "2022-10-31T08:53:05.681300Z",
     "shell.execute_reply": "2022-10-31T08:53:05.680975Z"
    }
   },
   "outputs": [],
   "source": [
    "# Just run this cell\n",
    "def recode_income(value):\n",
    "    if value == 'under 1000':\n",
    "        return 500\n",
    "    low_str, high_str = value.split('-')\n",
    "    low, high = int(low_str), int(high_str)\n",
    "    return np.mean([low, high])"
   ]
  },
  {
   "cell_type": "markdown",
   "id": "c66dec44",
   "metadata": {},
   "source": [
    "Here is what the recoder function gives with the lowest income bracket."
   ]
  },
  {
   "cell_type": "code",
   "execution_count": 13,
   "id": "d1878f73",
   "metadata": {
    "execution": {
     "iopub.execute_input": "2022-10-31T08:53:05.683163Z",
     "iopub.status.busy": "2022-10-31T08:53:05.683025Z",
     "iopub.status.idle": "2022-10-31T08:53:05.685363Z",
     "shell.execute_reply": "2022-10-31T08:53:05.685038Z"
    }
   },
   "outputs": [],
   "source": [
    "recode_income('under 1000')"
   ]
  },
  {
   "cell_type": "markdown",
   "id": "cd4985f4",
   "metadata": {},
   "source": [
    "Here is what it gives for a higher bracket:"
   ]
  },
  {
   "cell_type": "code",
   "execution_count": 14,
   "id": "c570a9a9",
   "metadata": {
    "execution": {
     "iopub.execute_input": "2022-10-31T08:53:05.687266Z",
     "iopub.status.busy": "2022-10-31T08:53:05.687124Z",
     "iopub.status.idle": "2022-10-31T08:53:05.689641Z",
     "shell.execute_reply": "2022-10-31T08:53:05.689310Z"
    }
   },
   "outputs": [],
   "source": [
    "recode_income('90000-109999')"
   ]
  },
  {
   "cell_type": "markdown",
   "id": "8688dc8c",
   "metadata": {},
   "source": [
    "The cell below uses this function to recode the \"Income\" strings into numbers.\n",
    "Again, we have not covered the `apply` method yet, so don't worry about the\n",
    "details."
   ]
  },
  {
   "cell_type": "code",
   "execution_count": 15,
   "id": "aa258033",
   "metadata": {
    "execution": {
     "iopub.execute_input": "2022-10-31T08:53:05.691511Z",
     "iopub.status.busy": "2022-10-31T08:53:05.691373Z",
     "iopub.status.idle": "2022-10-31T08:53:05.699348Z",
     "shell.execute_reply": "2022-10-31T08:53:05.699024Z"
    }
   },
   "outputs": [],
   "source": [
    "# Run this cell.\n",
    "income_ish = income.apply(recode_income)\n",
    "income_ish.head()"
   ]
  },
  {
   "cell_type": "code",
   "execution_count": 16,
   "id": "e516e12c",
   "metadata": {
    "execution": {
     "iopub.execute_input": "2022-10-31T08:53:05.701251Z",
     "iopub.status.busy": "2022-10-31T08:53:05.701109Z",
     "iopub.status.idle": "2022-10-31T08:53:05.708530Z",
     "shell.execute_reply": "2022-10-31T08:53:05.708172Z"
    }
   },
   "outputs": [],
   "source": [
    "# This test makes sure you've run the cells above correctly.\n",
    "_ = ok.grade('q_4_income_ish')"
   ]
  },
  {
   "cell_type": "markdown",
   "id": "b4904dec",
   "metadata": {},
   "source": [
    "Next put the column containing the answers to the death penalty question into\n",
    "its own variable `death`:"
   ]
  },
  {
   "cell_type": "code",
   "execution_count": 17,
   "id": "b9adedb1",
   "metadata": {
    "execution": {
     "iopub.execute_input": "2022-10-31T08:53:05.712253Z",
     "iopub.status.busy": "2022-10-31T08:53:05.712113Z",
     "iopub.status.idle": "2022-10-31T08:53:05.715177Z",
     "shell.execute_reply": "2022-10-31T08:53:05.714890Z"
    }
   },
   "outputs": [],
   "source": [
    "death = complete_md['DeathPenalty']\n",
    "# Show the unique values with their counts.\n",
    "death.value_counts()"
   ]
  },
  {
   "cell_type": "code",
   "execution_count": 18,
   "id": "723f779d",
   "metadata": {
    "execution": {
     "iopub.execute_input": "2022-10-31T08:53:05.716982Z",
     "iopub.status.busy": "2022-10-31T08:53:05.716869Z",
     "iopub.status.idle": "2022-10-31T08:53:05.726142Z",
     "shell.execute_reply": "2022-10-31T08:53:05.725742Z"
    }
   },
   "outputs": [],
   "source": [
    "_ = ok.grade('q_5_death')"
   ]
  },
  {
   "cell_type": "markdown",
   "id": "c5a21a3a",
   "metadata": {},
   "source": [
    "In the next few cells, you make two new Pandas Series.  One, `favor_income`,\n",
    "contains the recoded income values `income_ish` corresponding to respondents\n",
    "who have a `death` value of `Favor`.\n",
    "\n",
    "The other, `oppose_income`, has the recoded income values corresponding to those with `Oppose` values in `death`.\n",
    "\n",
    "**Hint** - as ever, make a Boolean series of True / False values corresponding\n",
    "to rows you want.  Use that series to select the rows from `income_ish`."
   ]
  },
  {
   "cell_type": "code",
   "execution_count": 19,
   "id": "bb03c03b",
   "metadata": {
    "execution": {
     "iopub.execute_input": "2022-10-31T08:53:05.729924Z",
     "iopub.status.busy": "2022-10-31T08:53:05.729781Z",
     "iopub.status.idle": "2022-10-31T08:53:05.873557Z",
     "shell.execute_reply": "2022-10-31T08:53:05.873154Z"
    }
   },
   "outputs": [],
   "source": [
    "favor_income = income_ish[death == 'Favor']\n",
    "# Show a histogram of the in-favor income values.\n",
    "favor_income.hist();"
   ]
  },
  {
   "cell_type": "code",
   "execution_count": 20,
   "id": "8a3e8e82",
   "metadata": {
    "execution": {
     "iopub.execute_input": "2022-10-31T08:53:05.875697Z",
     "iopub.status.busy": "2022-10-31T08:53:05.875542Z",
     "iopub.status.idle": "2022-10-31T08:53:05.886146Z",
     "shell.execute_reply": "2022-10-31T08:53:05.885708Z"
    },
    "lines_to_next_cell": 2
   },
   "outputs": [],
   "source": [
    "_ = ok.grade('q_6_favor_income')"
   ]
  },
  {
   "cell_type": "markdown",
   "id": "e05d2647",
   "metadata": {},
   "source": [
    "Likewise select incomes for those opposed.   Show the distribution."
   ]
  },
  {
   "cell_type": "code",
   "execution_count": 21,
   "id": "d09b663f",
   "metadata": {
    "execution": {
     "iopub.execute_input": "2022-10-31T08:53:05.890015Z",
     "iopub.status.busy": "2022-10-31T08:53:05.889873Z",
     "iopub.status.idle": "2022-10-31T08:53:05.986831Z",
     "shell.execute_reply": "2022-10-31T08:53:05.986469Z"
    }
   },
   "outputs": [],
   "source": [
    "oppose_income = income_ish[death == 'Oppose']\n",
    "# Show a histogram of the oppose income values.\n",
    "oppose_income.hist();"
   ]
  },
  {
   "cell_type": "code",
   "execution_count": 22,
   "id": "cc1c5971",
   "metadata": {
    "execution": {
     "iopub.execute_input": "2022-10-31T08:53:05.988883Z",
     "iopub.status.busy": "2022-10-31T08:53:05.988726Z",
     "iopub.status.idle": "2022-10-31T08:53:06.000186Z",
     "shell.execute_reply": "2022-10-31T08:53:05.999768Z"
    }
   },
   "outputs": [],
   "source": [
    "_ = ok.grade('q_7_oppose_income')"
   ]
  },
  {
   "cell_type": "markdown",
   "id": "db908490",
   "metadata": {},
   "source": [
    "Calculate the difference in mean income between the groups.  This is the\n",
    "difference we observe."
   ]
  },
  {
   "cell_type": "code",
   "execution_count": 23,
   "id": "eb058b32",
   "metadata": {
    "execution": {
     "iopub.execute_input": "2022-10-31T08:53:06.004104Z",
     "iopub.status.busy": "2022-10-31T08:53:06.003956Z",
     "iopub.status.idle": "2022-10-31T08:53:06.007067Z",
     "shell.execute_reply": "2022-10-31T08:53:06.006696Z"
    }
   },
   "outputs": [],
   "source": [
    "actual_diff = np.mean(favor_income) - np.mean(oppose_income)\n",
    "actual_diff"
   ]
  },
  {
   "cell_type": "code",
   "execution_count": 24,
   "id": "6fa72463",
   "metadata": {
    "execution": {
     "iopub.execute_input": "2022-10-31T08:53:06.008967Z",
     "iopub.status.busy": "2022-10-31T08:53:06.008841Z",
     "iopub.status.idle": "2022-10-31T08:53:06.017898Z",
     "shell.execute_reply": "2022-10-31T08:53:06.017515Z"
    }
   },
   "outputs": [],
   "source": [
    "_ = ok.grade('q_8_actual_diff')"
   ]
  },
  {
   "cell_type": "markdown",
   "id": "4bc7cb23",
   "metadata": {},
   "source": [
    "We want to know whether this difference in income is compatible with random\n",
    "sampling. That is, we want to know whether a difference this large is\n",
    "plausible, if the incomes are in fact random samples from the same population.\n",
    "\n",
    "To estimate how variable the mean differences can be, for such random sampling,\n",
    "we simulate this sampling by pooling the income values that we have, from the\n",
    "two groups, and the permuting them.\n",
    "\n",
    "First, we get the number of respondents in favor of the death penalty."
   ]
  },
  {
   "cell_type": "code",
   "execution_count": 25,
   "id": "cdc0efe9",
   "metadata": {
    "execution": {
     "iopub.execute_input": "2022-10-31T08:53:06.021760Z",
     "iopub.status.busy": "2022-10-31T08:53:06.021617Z",
     "iopub.status.idle": "2022-10-31T08:53:06.024287Z",
     "shell.execute_reply": "2022-10-31T08:53:06.023947Z"
    }
   },
   "outputs": [],
   "source": [
    "n_favor = len(favor_income)\n",
    "n_favor"
   ]
  },
  {
   "cell_type": "code",
   "execution_count": 26,
   "id": "d94134a7",
   "metadata": {
    "execution": {
     "iopub.execute_input": "2022-10-31T08:53:06.026110Z",
     "iopub.status.busy": "2022-10-31T08:53:06.025973Z",
     "iopub.status.idle": "2022-10-31T08:53:06.034810Z",
     "shell.execute_reply": "2022-10-31T08:53:06.034385Z"
    },
    "lines_to_next_cell": 2
   },
   "outputs": [],
   "source": [
    "_ = ok.grade('q_9_n_favor')"
   ]
  },
  {
   "cell_type": "markdown",
   "id": "1535ccee",
   "metadata": {},
   "source": [
    "Then we pool the income values for the in-favor and oppose groups."
   ]
  },
  {
   "cell_type": "code",
   "execution_count": 27,
   "id": "db4cbf10",
   "metadata": {
    "execution": {
     "iopub.execute_input": "2022-10-31T08:53:06.038694Z",
     "iopub.status.busy": "2022-10-31T08:53:06.038545Z",
     "iopub.status.idle": "2022-10-31T08:53:06.041582Z",
     "shell.execute_reply": "2022-10-31T08:53:06.041258Z"
    }
   },
   "outputs": [],
   "source": [
    "# Concatenate the in-favor and opposed incomes.\n",
    "pooled = np.append(favor_income, oppose_income)\n",
    "# Show the first 10 values before shuffling.\n",
    "pooled[:10]"
   ]
  },
  {
   "cell_type": "markdown",
   "id": "e6706bc9",
   "metadata": {},
   "source": [
    "To do the random sampling we permute the values, so the `pooled` vector is a\n",
    "random mixture of the two groups."
   ]
  },
  {
   "cell_type": "code",
   "execution_count": 28,
   "id": "58019dd8",
   "metadata": {
    "execution": {
     "iopub.execute_input": "2022-10-31T08:53:06.043531Z",
     "iopub.status.busy": "2022-10-31T08:53:06.043379Z",
     "iopub.status.idle": "2022-10-31T08:53:06.047028Z",
     "shell.execute_reply": "2022-10-31T08:53:06.046734Z"
    }
   },
   "outputs": [],
   "source": [
    "shuffled = rng.permutation(pooled)\n",
    "# Show the first 10 values after shuffling.\n",
    "shuffled[:10]"
   ]
  },
  {
   "cell_type": "markdown",
   "id": "5f5d692d",
   "metadata": {},
   "source": [
    "Treat the first `n_favor` observations from this shuffled vector as our\n",
    "simulated in-favor group.  The rest are our simulated oppose\n",
    "group."
   ]
  },
  {
   "cell_type": "code",
   "execution_count": 29,
   "id": "0aeb0f27",
   "metadata": {
    "execution": {
     "iopub.execute_input": "2022-10-31T08:53:06.048941Z",
     "iopub.status.busy": "2022-10-31T08:53:06.048804Z",
     "iopub.status.idle": "2022-10-31T08:53:06.050626Z",
     "shell.execute_reply": "2022-10-31T08:53:06.050324Z"
    }
   },
   "outputs": [],
   "source": [
    "fake_favor = shuffled[:n_favor]\n",
    "fake_oppose = shuffled[n_favor:]"
   ]
  },
  {
   "cell_type": "markdown",
   "id": "0619286a",
   "metadata": {},
   "source": [
    "Calculate the difference in means for this simulation."
   ]
  },
  {
   "cell_type": "code",
   "execution_count": 30,
   "id": "f96bedc8",
   "metadata": {
    "execution": {
     "iopub.execute_input": "2022-10-31T08:53:06.052498Z",
     "iopub.status.busy": "2022-10-31T08:53:06.052357Z",
     "iopub.status.idle": "2022-10-31T08:53:06.055150Z",
     "shell.execute_reply": "2022-10-31T08:53:06.054830Z"
    }
   },
   "outputs": [],
   "source": [
    "fake_diff = np.mean(fake_favor) - np.mean(fake_oppose)\n",
    "fake_diff"
   ]
  },
  {
   "cell_type": "markdown",
   "id": "439004e9",
   "metadata": {},
   "source": [
    "Now it is your turn.   Do this simulation 10000 times, to build up the\n",
    "distribution of differences compatible with random sampling."
   ]
  },
  {
   "cell_type": "code",
   "execution_count": 31,
   "id": "f0a1e759",
   "metadata": {
    "execution": {
     "iopub.execute_input": "2022-10-31T08:53:06.056997Z",
     "iopub.status.busy": "2022-10-31T08:53:06.056862Z",
     "iopub.status.idle": "2022-10-31T08:53:06.277068Z",
     "shell.execute_reply": "2022-10-31T08:53:06.276742Z"
    }
   },
   "outputs": [],
   "source": [
    "fake_differences = np.zeros(10000)\n",
    "for i in np.arange(10000):\n",
    "    #- Permute the pooled incomes\n",
    "    shuffled = rng.permutation(pooled)\n",
    "    #- Make a fake favor sample\n",
    "    fake_favor = shuffled[:n_favor]\n",
    "    #- Make a fake opposed sample\n",
    "    fake_oppose = shuffled[n_favor:]\n",
    "    #- Calculate the mean difference for the fake samples\n",
    "    fake_diff = np.mean(fake_favor) - np.mean(fake_oppose)\n",
    "    #- Put the mean difference into the fake_differences array.\n",
    "    fake_differences[i] = fake_diff\n",
    "# Show the first 10 fake differences\n",
    "fake_differences[:10]"
   ]
  },
  {
   "cell_type": "code",
   "execution_count": 32,
   "id": "6ee75793",
   "metadata": {
    "execution": {
     "iopub.execute_input": "2022-10-31T08:53:06.278933Z",
     "iopub.status.busy": "2022-10-31T08:53:06.278784Z",
     "iopub.status.idle": "2022-10-31T08:53:06.287901Z",
     "shell.execute_reply": "2022-10-31T08:53:06.287542Z"
    }
   },
   "outputs": [],
   "source": [
    "_ = ok.grade('q_10_fake_differences')"
   ]
  },
  {
   "cell_type": "markdown",
   "id": "8acb4cd4",
   "metadata": {},
   "source": [
    "When you have that working, do a histogram of the differences."
   ]
  },
  {
   "cell_type": "code",
   "execution_count": 33,
   "id": "f110461a",
   "metadata": {
    "execution": {
     "iopub.execute_input": "2022-10-31T08:53:06.291846Z",
     "iopub.status.busy": "2022-10-31T08:53:06.291700Z",
     "iopub.status.idle": "2022-10-31T08:53:06.382198Z",
     "shell.execute_reply": "2022-10-31T08:53:06.381868Z"
    }
   },
   "outputs": [],
   "source": [
    "plt.hist(fake_differences)"
   ]
  },
  {
   "cell_type": "markdown",
   "id": "86c192a8",
   "metadata": {},
   "source": [
    "You can get an idea of where the actual difference we saw sits on this\n",
    "histogram, and therefore how likely that difference is, assuming the incomes\n",
    "come from the same underlying population of incomes.\n",
    "\n",
    "To be more specific, show the proportion of the differences you calculated that\n",
    "were greater than or equal to the actual difference."
   ]
  },
  {
   "cell_type": "code",
   "execution_count": 34,
   "id": "bd44e05f",
   "metadata": {
    "execution": {
     "iopub.execute_input": "2022-10-31T08:53:06.384276Z",
     "iopub.status.busy": "2022-10-31T08:53:06.384121Z",
     "iopub.status.idle": "2022-10-31T08:53:06.386969Z",
     "shell.execute_reply": "2022-10-31T08:53:06.386629Z"
    }
   },
   "outputs": [],
   "source": [
    "p_fake_ge_actual = np.count_nonzero(fake_differences >= actual_diff) / 10000\n",
    "p_fake_ge_actual"
   ]
  },
  {
   "cell_type": "code",
   "execution_count": 35,
   "id": "2179c9e8",
   "metadata": {
    "execution": {
     "iopub.execute_input": "2022-10-31T08:53:06.388839Z",
     "iopub.status.busy": "2022-10-31T08:53:06.388690Z",
     "iopub.status.idle": "2022-10-31T08:53:06.398844Z",
     "shell.execute_reply": "2022-10-31T08:53:06.398408Z"
    }
   },
   "outputs": [],
   "source": [
    "_ = ok.grade('q_11_p_fake_ge_actual')"
   ]
  },
  {
   "cell_type": "markdown",
   "id": "1f84a139",
   "metadata": {},
   "source": [
    "This proportion gives an estimate of the probability of seeing a difference\n",
    "this large, if the incomes all come from the same underlying population."
   ]
  },
  {
   "cell_type": "markdown",
   "id": "15965d74",
   "metadata": {},
   "source": [
    "## Done"
   ]
  },
  {
   "cell_type": "code",
   "execution_count": 36,
   "id": "b4e75f5e",
   "metadata": {
    "execution": {
     "iopub.execute_input": "2022-10-31T08:53:06.402845Z",
     "iopub.status.busy": "2022-10-31T08:53:06.402699Z",
     "iopub.status.idle": "2022-10-31T08:53:06.487615Z",
     "shell.execute_reply": "2022-10-31T08:53:06.487225Z"
    }
   },
   "outputs": [],
   "source": [
    "# For your convenience, you can run this cell to run all the tests at once!\n",
    "import os\n",
    "_ = [ok.grade(q[:-3]) for q in os.listdir(\"tests\") if q.startswith('q')]"
   ]
  }
 ],
 "metadata": {
  "jupytext": {
   "split_at_heading": true,
   "text_representation": {
    "extension": ".Rmd",
    "format_name": "rmarkdown",
    "format_version": "1.1",
    "jupytext_version": "1.2.4"
   }
  },
  "kernelspec": {
   "display_name": "Python 3",
   "language": "python",
   "name": "python3"
  },
  "language_info": {
   "codemirror_mode": {
    "name": "ipython",
    "version": 3
   },
   "file_extension": ".py",
   "mimetype": "text/x-python",
   "name": "python",
   "nbconvert_exporter": "python",
   "pygments_lexer": "ipython3",
   "version": "3.10.7"
  }
 },
 "nbformat": 4,
 "nbformat_minor": 5
}
