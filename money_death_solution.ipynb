{
 "cells": [
  {
   "cell_type": "markdown",
   "id": "caf87df0",
   "metadata": {},
   "source": [
    "# Money and death\n",
    "\n",
    "\n",
    "\n",
    "We return to the death penalty."
   ]
  },
  {
   "cell_type": "code",
   "execution_count": 1,
   "id": "6172cd85",
   "metadata": {
    "execution": {
     "iopub.execute_input": "2022-11-05T17:30:58.153469Z",
     "iopub.status.busy": "2022-11-05T17:30:58.153052Z",
     "iopub.status.idle": "2022-11-05T17:30:58.703162Z",
     "shell.execute_reply": "2022-11-05T17:30:58.702760Z"
    }
   },
   "outputs": [],
   "source": [
    "# Array library.\n",
    "import numpy as np\n",
    "\n",
    "# A Numpy random number generator.\n",
    "rng = np.random.default_rng()\n",
    "\n",
    "# Data frames library.\n",
    "import pandas as pd\n",
    "\n",
    "# Set up plotting\n",
    "import matplotlib.pyplot as plt\n",
    "plt.style.use('fivethirtyeight')"
   ]
  },
  {
   "cell_type": "code",
   "execution_count": 2,
   "id": "f7471cef",
   "metadata": {
    "execution": {
     "iopub.execute_input": "2022-11-05T17:30:58.706223Z",
     "iopub.status.busy": "2022-11-05T17:30:58.706002Z",
     "iopub.status.idle": "2022-11-05T17:30:58.831683Z",
     "shell.execute_reply": "2022-11-05T17:30:58.831272Z"
    }
   },
   "outputs": [],
   "source": [
    "# Load the OKpy test library and tests.\n",
    "from client.api.notebook import Notebook\n",
    "ok = Notebook('money_death.ok')"
   ]
  },
  {
   "cell_type": "markdown",
   "id": "85b2e6ca",
   "metadata": {},
   "source": [
    "In this case, we are going to analyze whether people with higher incomes are\n",
    "more likely to favor the death penalty.\n",
    "\n",
    "To do this, we are going to analyze the results from a sample of the US\n",
    "[General Social Survey](http://www.gss.norc.org) from 2002.\n",
    "\n",
    "Make sure you have the data file [GSS2002.csv](https://lisds.github.io/textbook/data/GSS2002.csv) in the same directory as this notebook.  This should be true if you unpacked the exercise zip file."
   ]
  },
  {
   "cell_type": "code",
   "execution_count": 3,
   "id": "ad60fdc6",
   "metadata": {
    "execution": {
     "iopub.execute_input": "2022-11-05T17:30:58.833919Z",
     "iopub.status.busy": "2022-11-05T17:30:58.833766Z",
     "iopub.status.idle": "2022-11-05T17:30:58.854557Z",
     "shell.execute_reply": "2022-11-05T17:30:58.854260Z"
    }
   },
   "outputs": [],
   "source": [
    "# Read the data into a data frame\n",
    "gss = pd.read_csv('GSS2002.csv')\n",
    "# Show the first 5 rows.\n",
    "gss.head()"
   ]
  },
  {
   "cell_type": "markdown",
   "id": "394a5dd0",
   "metadata": {},
   "source": [
    "Each row corresponds to a single respondent.\n",
    "\n",
    "Show the column names:"
   ]
  },
  {
   "cell_type": "code",
   "execution_count": 4,
   "id": "6db4f155",
   "metadata": {
    "execution": {
     "iopub.execute_input": "2022-11-05T17:30:58.856722Z",
     "iopub.status.busy": "2022-11-05T17:30:58.856583Z",
     "iopub.status.idle": "2022-11-05T17:30:58.859384Z",
     "shell.execute_reply": "2022-11-05T17:30:58.859092Z"
    }
   },
   "outputs": [],
   "source": [
    "gss.columns"
   ]
  },
  {
   "cell_type": "markdown",
   "id": "20e5b088",
   "metadata": {},
   "source": [
    "We want to work with only two columns from this data frame.  These are\n",
    "\"Income\", and \"DeathPenalty\".\n",
    "\n",
    "\"Income\" gives the income bracket of the respondent.  \"DeathPenalty\" is the\n",
    "answer to a question about whether they \"Favor\" or \"Oppose\" the death penalty.\n",
    "\n",
    "Start by making a data frame `money_death` that only has the columns \"Income\" and \"DeathPenalty\" from `gss`.\n",
    "\n",
    "**Hint**: make a new empty data frame called `money_death`.  Get the columns\n",
    "\"Income\" and \"DeathPenalty\" from the `gss` data frame, and insert them into\n",
    "`money_death`.  See the [data frames, series, arrays page](https://lisds.github.io/textbook/data-frames/df_series_arrays)."
   ]
  },
  {
   "cell_type": "code",
   "execution_count": 5,
   "id": "ad2c2b99",
   "metadata": {
    "execution": {
     "iopub.execute_input": "2022-11-05T17:30:58.861306Z",
     "iopub.status.busy": "2022-11-05T17:30:58.861168Z",
     "iopub.status.idle": "2022-11-05T17:30:58.867242Z",
     "shell.execute_reply": "2022-11-05T17:30:58.866944Z"
    }
   },
   "outputs": [],
   "source": [
    "money_death = pd.DataFrame()\n",
    "money_death['Income'] = gss['Income']\n",
    "money_death['DeathPenalty'] = gss['DeathPenalty']\n",
    "# Show the result\n",
    "money_death.head()"
   ]
  },
  {
   "cell_type": "code",
   "execution_count": 6,
   "id": "36923daa",
   "metadata": {
    "execution": {
     "iopub.execute_input": "2022-11-05T17:30:58.869104Z",
     "iopub.status.busy": "2022-11-05T17:30:58.868959Z",
     "iopub.status.idle": "2022-11-05T17:30:58.884292Z",
     "shell.execute_reply": "2022-11-05T17:30:58.883905Z"
    }
   },
   "outputs": [],
   "source": [
    "_ = ok.grade('q_1_money_death')"
   ]
  },
  {
   "cell_type": "markdown",
   "id": "65033751",
   "metadata": {},
   "source": [
    "There are many missing question responses, indicated by `NaN`.  To make our\n",
    "life easier, we drop the respondents who didn't specify an income bracket, and\n",
    "those who did not give an answer to the death penalty question.  Pandas\n",
    "`dropna` method of the data frame does this job. It drops all rows that have\n",
    "any missing values in the row.  Check the help for the `money_death.dropna`\n",
    "method with `money_death.dropna?` in a new cell."
   ]
  },
  {
   "cell_type": "code",
   "execution_count": 7,
   "id": "40e9c078",
   "metadata": {
    "execution": {
     "iopub.execute_input": "2022-11-05T17:30:58.888369Z",
     "iopub.status.busy": "2022-11-05T17:30:58.888222Z",
     "iopub.status.idle": "2022-11-05T17:30:58.893396Z",
     "shell.execute_reply": "2022-11-05T17:30:58.893060Z"
    }
   },
   "outputs": [],
   "source": [
    "complete_md = money_death.dropna()\n",
    "complete_md.head()"
   ]
  },
  {
   "cell_type": "code",
   "execution_count": 8,
   "id": "f27259de",
   "metadata": {
    "execution": {
     "iopub.execute_input": "2022-11-05T17:30:58.895355Z",
     "iopub.status.busy": "2022-11-05T17:30:58.895038Z",
     "iopub.status.idle": "2022-11-05T17:30:58.903741Z",
     "shell.execute_reply": "2022-11-05T17:30:58.903360Z"
    },
    "lines_to_next_cell": 2
   },
   "outputs": [],
   "source": [
    "_ = ok.grade('q_2_complete_md')"
   ]
  },
  {
   "cell_type": "markdown",
   "id": "9ec7a755",
   "metadata": {},
   "source": [
    "Put the income column of `complete_md` into its own variable:"
   ]
  },
  {
   "cell_type": "code",
   "execution_count": 9,
   "id": "80a5ec4a",
   "metadata": {
    "execution": {
     "iopub.execute_input": "2022-11-05T17:30:58.907653Z",
     "iopub.status.busy": "2022-11-05T17:30:58.907508Z",
     "iopub.status.idle": "2022-11-05T17:30:58.910326Z",
     "shell.execute_reply": "2022-11-05T17:30:58.910009Z"
    }
   },
   "outputs": [],
   "source": [
    "income = complete_md['Income']\n",
    "income.head()"
   ]
  },
  {
   "cell_type": "code",
   "execution_count": 10,
   "id": "39b2f73b",
   "metadata": {
    "execution": {
     "iopub.execute_input": "2022-11-05T17:30:58.912144Z",
     "iopub.status.busy": "2022-11-05T17:30:58.911997Z",
     "iopub.status.idle": "2022-11-05T17:30:58.921081Z",
     "shell.execute_reply": "2022-11-05T17:30:58.920736Z"
    },
    "lines_to_next_cell": 2
   },
   "outputs": [],
   "source": [
    "_ = ok.grade('q_3_income')"
   ]
  },
  {
   "cell_type": "markdown",
   "id": "b2415d26",
   "metadata": {},
   "source": [
    "Use the `value_counts` method of the `income` Series to show the unique values and their counts."
   ]
  },
  {
   "cell_type": "code",
   "execution_count": 11,
   "id": "d578be34",
   "metadata": {
    "execution": {
     "iopub.execute_input": "2022-11-05T17:30:58.924960Z",
     "iopub.status.busy": "2022-11-05T17:30:58.924818Z",
     "iopub.status.idle": "2022-11-05T17:30:58.928618Z",
     "shell.execute_reply": "2022-11-05T17:30:58.928299Z"
    }
   },
   "outputs": [],
   "source": [
    "income.value_counts()"
   ]
  },
  {
   "cell_type": "markdown",
   "id": "2ee717ad",
   "metadata": {},
   "source": [
    "The elements in this series are strings.  We want to get income as a number.\n",
    "We estimate this by *recoding* the \"Income\" column.  We replace the string,\n",
    "giving the income bracket, with the average of the minimum and maximum in the\n",
    "range.\n",
    "\n",
    "We can do this with a *recoder function*.  We have not covered writing your own\n",
    "functions yet, so do not worry about the details of this function."
   ]
  },
  {
   "cell_type": "code",
   "execution_count": 12,
   "id": "3c4cb0f0",
   "metadata": {
    "execution": {
     "iopub.execute_input": "2022-11-05T17:30:58.930539Z",
     "iopub.status.busy": "2022-11-05T17:30:58.930394Z",
     "iopub.status.idle": "2022-11-05T17:30:58.932861Z",
     "shell.execute_reply": "2022-11-05T17:30:58.932554Z"
    }
   },
   "outputs": [],
   "source": [
    "# Just run this cell\n",
    "def recode_income(value):\n",
    "    if value == 'under 1000':\n",
    "        return 500\n",
    "    low_str, high_str = value.split('-')\n",
    "    low, high = int(low_str), int(high_str)\n",
    "    return np.mean([low, high])"
   ]
  },
  {
   "cell_type": "markdown",
   "id": "d4d925f9",
   "metadata": {},
   "source": [
    "Here is what the recoder function gives with the lowest income bracket."
   ]
  },
  {
   "cell_type": "code",
   "execution_count": 13,
   "id": "0919c32e",
   "metadata": {
    "execution": {
     "iopub.execute_input": "2022-11-05T17:30:58.934763Z",
     "iopub.status.busy": "2022-11-05T17:30:58.934625Z",
     "iopub.status.idle": "2022-11-05T17:30:58.937047Z",
     "shell.execute_reply": "2022-11-05T17:30:58.936757Z"
    }
   },
   "outputs": [],
   "source": [
    "recode_income('under 1000')"
   ]
  },
  {
   "cell_type": "markdown",
   "id": "33282418",
   "metadata": {},
   "source": [
    "Here is what it gives for a higher bracket:"
   ]
  },
  {
   "cell_type": "code",
   "execution_count": 14,
   "id": "e34670fb",
   "metadata": {
    "execution": {
     "iopub.execute_input": "2022-11-05T17:30:58.938861Z",
     "iopub.status.busy": "2022-11-05T17:30:58.938723Z",
     "iopub.status.idle": "2022-11-05T17:30:58.941207Z",
     "shell.execute_reply": "2022-11-05T17:30:58.940906Z"
    }
   },
   "outputs": [],
   "source": [
    "recode_income('90000-109999')"
   ]
  },
  {
   "cell_type": "markdown",
   "id": "0fe0ab95",
   "metadata": {},
   "source": [
    "The cell below uses this function to recode the \"Income\" strings into numbers.\n",
    "Again, we have not covered the `apply` method yet, so don't worry about the\n",
    "details."
   ]
  },
  {
   "cell_type": "code",
   "execution_count": 15,
   "id": "8b879b84",
   "metadata": {
    "execution": {
     "iopub.execute_input": "2022-11-05T17:30:58.943105Z",
     "iopub.status.busy": "2022-11-05T17:30:58.942962Z",
     "iopub.status.idle": "2022-11-05T17:30:58.950980Z",
     "shell.execute_reply": "2022-11-05T17:30:58.950663Z"
    }
   },
   "outputs": [],
   "source": [
    "# Run this cell.\n",
    "income_ish = income.apply(recode_income)\n",
    "income_ish.head()"
   ]
  },
  {
   "cell_type": "code",
   "execution_count": 16,
   "id": "10e10354",
   "metadata": {
    "execution": {
     "iopub.execute_input": "2022-11-05T17:30:58.952847Z",
     "iopub.status.busy": "2022-11-05T17:30:58.952701Z",
     "iopub.status.idle": "2022-11-05T17:30:58.960111Z",
     "shell.execute_reply": "2022-11-05T17:30:58.959766Z"
    }
   },
   "outputs": [],
   "source": [
    "# This test makes sure you've run the cells above correctly.\n",
    "_ = ok.grade('q_4_income_ish')"
   ]
  },
  {
   "cell_type": "markdown",
   "id": "0ed07631",
   "metadata": {},
   "source": [
    "Next put the column containing the answers to the death penalty question into\n",
    "its own variable `death`:"
   ]
  },
  {
   "cell_type": "code",
   "execution_count": 17,
   "id": "7d54d8b7",
   "metadata": {
    "execution": {
     "iopub.execute_input": "2022-11-05T17:30:58.963705Z",
     "iopub.status.busy": "2022-11-05T17:30:58.963561Z",
     "iopub.status.idle": "2022-11-05T17:30:58.966670Z",
     "shell.execute_reply": "2022-11-05T17:30:58.966361Z"
    }
   },
   "outputs": [],
   "source": [
    "death = complete_md['DeathPenalty']\n",
    "# Show the unique values with their counts.\n",
    "death.value_counts()"
   ]
  },
  {
   "cell_type": "code",
   "execution_count": 18,
   "id": "75902b5e",
   "metadata": {
    "execution": {
     "iopub.execute_input": "2022-11-05T17:30:58.968470Z",
     "iopub.status.busy": "2022-11-05T17:30:58.968353Z",
     "iopub.status.idle": "2022-11-05T17:30:58.977731Z",
     "shell.execute_reply": "2022-11-05T17:30:58.977339Z"
    }
   },
   "outputs": [],
   "source": [
    "_ = ok.grade('q_5_death')"
   ]
  },
  {
   "cell_type": "markdown",
   "id": "5e569ad7",
   "metadata": {},
   "source": [
    "In the next few cells, you make two new Pandas Series.  One, `favor_income`,\n",
    "contains the recoded income values `income_ish` corresponding to respondents\n",
    "who have a `death` value of `Favor`.\n",
    "\n",
    "The other, `oppose_income`, has the recoded income values corresponding to those with `Oppose` values in `death`.\n",
    "\n",
    "**Hint** - as ever, make a Boolean series of True / False values corresponding\n",
    "to rows you want.  Use that series to select the rows from `income_ish`."
   ]
  },
  {
   "cell_type": "code",
   "execution_count": 19,
   "id": "ab7ae850",
   "metadata": {
    "execution": {
     "iopub.execute_input": "2022-11-05T17:30:58.981303Z",
     "iopub.status.busy": "2022-11-05T17:30:58.981172Z",
     "iopub.status.idle": "2022-11-05T17:30:59.097199Z",
     "shell.execute_reply": "2022-11-05T17:30:59.096761Z"
    }
   },
   "outputs": [],
   "source": [
    "favor_income = income_ish[death == 'Favor']\n",
    "# Show a histogram of the in-favor income values.\n",
    "favor_income.hist();"
   ]
  },
  {
   "cell_type": "code",
   "execution_count": 20,
   "id": "2932c861",
   "metadata": {
    "execution": {
     "iopub.execute_input": "2022-11-05T17:30:59.099383Z",
     "iopub.status.busy": "2022-11-05T17:30:59.099229Z",
     "iopub.status.idle": "2022-11-05T17:30:59.109481Z",
     "shell.execute_reply": "2022-11-05T17:30:59.109045Z"
    },
    "lines_to_next_cell": 2
   },
   "outputs": [],
   "source": [
    "_ = ok.grade('q_6_favor_income')"
   ]
  },
  {
   "cell_type": "markdown",
   "id": "9234a82b",
   "metadata": {},
   "source": [
    "Likewise select incomes for those opposed.   Show the distribution."
   ]
  },
  {
   "cell_type": "code",
   "execution_count": 21,
   "id": "594015bf",
   "metadata": {
    "execution": {
     "iopub.execute_input": "2022-11-05T17:30:59.113449Z",
     "iopub.status.busy": "2022-11-05T17:30:59.113205Z",
     "iopub.status.idle": "2022-11-05T17:30:59.209532Z",
     "shell.execute_reply": "2022-11-05T17:30:59.209153Z"
    }
   },
   "outputs": [],
   "source": [
    "oppose_income = income_ish[death == 'Oppose']\n",
    "# Show a histogram of the oppose income values.\n",
    "oppose_income.hist();"
   ]
  },
  {
   "cell_type": "code",
   "execution_count": 22,
   "id": "7dd6928e",
   "metadata": {
    "execution": {
     "iopub.execute_input": "2022-11-05T17:30:59.211599Z",
     "iopub.status.busy": "2022-11-05T17:30:59.211446Z",
     "iopub.status.idle": "2022-11-05T17:30:59.221594Z",
     "shell.execute_reply": "2022-11-05T17:30:59.221179Z"
    }
   },
   "outputs": [],
   "source": [
    "_ = ok.grade('q_7_oppose_income')"
   ]
  },
  {
   "cell_type": "markdown",
   "id": "71f01d28",
   "metadata": {},
   "source": [
    "Calculate the difference in mean income between the groups.  This is the\n",
    "difference we observe."
   ]
  },
  {
   "cell_type": "code",
   "execution_count": 23,
   "id": "cf2878d2",
   "metadata": {
    "execution": {
     "iopub.execute_input": "2022-11-05T17:30:59.225512Z",
     "iopub.status.busy": "2022-11-05T17:30:59.225365Z",
     "iopub.status.idle": "2022-11-05T17:30:59.229712Z",
     "shell.execute_reply": "2022-11-05T17:30:59.229334Z"
    }
   },
   "outputs": [],
   "source": [
    "actual_diff = np.mean(favor_income) - np.mean(oppose_income)\n",
    "actual_diff"
   ]
  },
  {
   "cell_type": "code",
   "execution_count": 24,
   "id": "004e1d52",
   "metadata": {
    "execution": {
     "iopub.execute_input": "2022-11-05T17:30:59.231823Z",
     "iopub.status.busy": "2022-11-05T17:30:59.231499Z",
     "iopub.status.idle": "2022-11-05T17:30:59.240532Z",
     "shell.execute_reply": "2022-11-05T17:30:59.240101Z"
    }
   },
   "outputs": [],
   "source": [
    "_ = ok.grade('q_8_actual_diff')"
   ]
  },
  {
   "cell_type": "markdown",
   "id": "907e2511",
   "metadata": {},
   "source": [
    "We want to know whether this difference in income is compatible with random\n",
    "sampling. That is, we want to know whether a difference this large is\n",
    "plausible, if the incomes are in fact random samples from the same population.\n",
    "\n",
    "To estimate how variable the mean differences can be, for such random sampling,\n",
    "we simulate this sampling by pooling the income values that we have, from the\n",
    "two groups, and the permuting them.\n",
    "\n",
    "First, we get the number of respondents in favor of the death penalty."
   ]
  },
  {
   "cell_type": "code",
   "execution_count": 25,
   "id": "482f7d7f",
   "metadata": {
    "execution": {
     "iopub.execute_input": "2022-11-05T17:30:59.244239Z",
     "iopub.status.busy": "2022-11-05T17:30:59.244093Z",
     "iopub.status.idle": "2022-11-05T17:30:59.246613Z",
     "shell.execute_reply": "2022-11-05T17:30:59.246222Z"
    }
   },
   "outputs": [],
   "source": [
    "n_favor = len(favor_income)\n",
    "n_favor"
   ]
  },
  {
   "cell_type": "code",
   "execution_count": 26,
   "id": "e275d673",
   "metadata": {
    "execution": {
     "iopub.execute_input": "2022-11-05T17:30:59.248489Z",
     "iopub.status.busy": "2022-11-05T17:30:59.248341Z",
     "iopub.status.idle": "2022-11-05T17:30:59.256979Z",
     "shell.execute_reply": "2022-11-05T17:30:59.256639Z"
    },
    "lines_to_next_cell": 2
   },
   "outputs": [],
   "source": [
    "_ = ok.grade('q_9_n_favor')"
   ]
  },
  {
   "cell_type": "markdown",
   "id": "0231170c",
   "metadata": {},
   "source": [
    "Then we pool the income values for the in-favor and oppose groups."
   ]
  },
  {
   "cell_type": "code",
   "execution_count": 27,
   "id": "ddc0726a",
   "metadata": {
    "execution": {
     "iopub.execute_input": "2022-11-05T17:30:59.260981Z",
     "iopub.status.busy": "2022-11-05T17:30:59.260840Z",
     "iopub.status.idle": "2022-11-05T17:30:59.263897Z",
     "shell.execute_reply": "2022-11-05T17:30:59.263577Z"
    }
   },
   "outputs": [],
   "source": [
    "# Concatenate the in-favor and opposed incomes.\n",
    "pooled = np.concatenate([favor_income, oppose_income])\n",
    "# Show the first 10 values before shuffling.\n",
    "pooled[:10]"
   ]
  },
  {
   "cell_type": "markdown",
   "id": "ec7c616d",
   "metadata": {},
   "source": [
    "To do the random sampling we permute the values, so the `pooled` vector is a\n",
    "random mixture of the two groups."
   ]
  },
  {
   "cell_type": "code",
   "execution_count": 28,
   "id": "26801369",
   "metadata": {
    "execution": {
     "iopub.execute_input": "2022-11-05T17:30:59.265831Z",
     "iopub.status.busy": "2022-11-05T17:30:59.265721Z",
     "iopub.status.idle": "2022-11-05T17:30:59.269223Z",
     "shell.execute_reply": "2022-11-05T17:30:59.268901Z"
    }
   },
   "outputs": [],
   "source": [
    "shuffled = rng.permutation(pooled)\n",
    "# Show the first 10 values after shuffling.\n",
    "shuffled[:10]"
   ]
  },
  {
   "cell_type": "markdown",
   "id": "48e5c3bb",
   "metadata": {},
   "source": [
    "Treat the first `n_favor` observations from this shuffled vector as our\n",
    "simulated in-favor group.  The rest are our simulated oppose\n",
    "group."
   ]
  },
  {
   "cell_type": "code",
   "execution_count": 29,
   "id": "4f689b96",
   "metadata": {
    "execution": {
     "iopub.execute_input": "2022-11-05T17:30:59.271183Z",
     "iopub.status.busy": "2022-11-05T17:30:59.271046Z",
     "iopub.status.idle": "2022-11-05T17:30:59.273016Z",
     "shell.execute_reply": "2022-11-05T17:30:59.272705Z"
    }
   },
   "outputs": [],
   "source": [
    "fake_favor = shuffled[:n_favor]\n",
    "fake_oppose = shuffled[n_favor:]"
   ]
  },
  {
   "cell_type": "markdown",
   "id": "70d5ba47",
   "metadata": {},
   "source": [
    "Calculate the difference in means for this simulation."
   ]
  },
  {
   "cell_type": "code",
   "execution_count": 30,
   "id": "8827eea2",
   "metadata": {
    "execution": {
     "iopub.execute_input": "2022-11-05T17:30:59.274943Z",
     "iopub.status.busy": "2022-11-05T17:30:59.274798Z",
     "iopub.status.idle": "2022-11-05T17:30:59.277415Z",
     "shell.execute_reply": "2022-11-05T17:30:59.277108Z"
    }
   },
   "outputs": [],
   "source": [
    "fake_diff = np.mean(fake_favor) - np.mean(fake_oppose)\n",
    "fake_diff"
   ]
  },
  {
   "cell_type": "markdown",
   "id": "930932cd",
   "metadata": {},
   "source": [
    "Now it is your turn.   Do this simulation 10000 times, to build up the\n",
    "distribution of differences compatible with random sampling."
   ]
  },
  {
   "cell_type": "code",
   "execution_count": 31,
   "id": "510912ca",
   "metadata": {
    "execution": {
     "iopub.execute_input": "2022-11-05T17:30:59.279288Z",
     "iopub.status.busy": "2022-11-05T17:30:59.279145Z",
     "iopub.status.idle": "2022-11-05T17:30:59.499849Z",
     "shell.execute_reply": "2022-11-05T17:30:59.499525Z"
    }
   },
   "outputs": [],
   "source": [
    "fake_differences = np.zeros(10000)\n",
    "for i in np.arange(10000):\n",
    "    #- Permute the pooled incomes\n",
    "    shuffled = rng.permutation(pooled)\n",
    "    #- Make a fake favor sample\n",
    "    fake_favor = shuffled[:n_favor]\n",
    "    #- Make a fake opposed sample\n",
    "    fake_oppose = shuffled[n_favor:]\n",
    "    #- Calculate the mean difference for the fake samples\n",
    "    fake_diff = np.mean(fake_favor) - np.mean(fake_oppose)\n",
    "    #- Put the mean difference into the fake_differences array.\n",
    "    fake_differences[i] = fake_diff\n",
    "# Show the first 10 fake differences\n",
    "fake_differences[:10]"
   ]
  },
  {
   "cell_type": "code",
   "execution_count": 32,
   "id": "8e5ac5dc",
   "metadata": {
    "execution": {
     "iopub.execute_input": "2022-11-05T17:30:59.501698Z",
     "iopub.status.busy": "2022-11-05T17:30:59.501557Z",
     "iopub.status.idle": "2022-11-05T17:30:59.510594Z",
     "shell.execute_reply": "2022-11-05T17:30:59.510254Z"
    }
   },
   "outputs": [],
   "source": [
    "_ = ok.grade('q_10_fake_differences')"
   ]
  },
  {
   "cell_type": "markdown",
   "id": "b9ed9ece",
   "metadata": {},
   "source": [
    "When you have that working, do a histogram of the differences."
   ]
  },
  {
   "cell_type": "code",
   "execution_count": 33,
   "id": "2b0224dd",
   "metadata": {
    "execution": {
     "iopub.execute_input": "2022-11-05T17:30:59.514502Z",
     "iopub.status.busy": "2022-11-05T17:30:59.514362Z",
     "iopub.status.idle": "2022-11-05T17:30:59.610973Z",
     "shell.execute_reply": "2022-11-05T17:30:59.610628Z"
    }
   },
   "outputs": [],
   "source": [
    "plt.hist(fake_differences)"
   ]
  },
  {
   "cell_type": "markdown",
   "id": "87ea79e5",
   "metadata": {},
   "source": [
    "You can get an idea of where the actual difference we saw sits on this\n",
    "histogram, and therefore how likely that difference is, assuming the incomes\n",
    "come from the same underlying population of incomes.\n",
    "\n",
    "To be more specific, show the proportion of the differences you calculated that\n",
    "were greater than or equal to the actual difference."
   ]
  },
  {
   "cell_type": "code",
   "execution_count": 34,
   "id": "19da27e9",
   "metadata": {
    "execution": {
     "iopub.execute_input": "2022-11-05T17:30:59.613027Z",
     "iopub.status.busy": "2022-11-05T17:30:59.612878Z",
     "iopub.status.idle": "2022-11-05T17:30:59.615719Z",
     "shell.execute_reply": "2022-11-05T17:30:59.615345Z"
    }
   },
   "outputs": [],
   "source": [
    "p_fake_ge_actual = np.count_nonzero(fake_differences >= actual_diff) / 10000\n",
    "p_fake_ge_actual"
   ]
  },
  {
   "cell_type": "code",
   "execution_count": 35,
   "id": "2754889c",
   "metadata": {
    "execution": {
     "iopub.execute_input": "2022-11-05T17:30:59.617673Z",
     "iopub.status.busy": "2022-11-05T17:30:59.617515Z",
     "iopub.status.idle": "2022-11-05T17:30:59.627761Z",
     "shell.execute_reply": "2022-11-05T17:30:59.627408Z"
    }
   },
   "outputs": [],
   "source": [
    "_ = ok.grade('q_11_p_fake_ge_actual')"
   ]
  },
  {
   "cell_type": "markdown",
   "id": "b254f36f",
   "metadata": {},
   "source": [
    "This proportion gives an estimate of the probability of seeing a difference\n",
    "this large, if the incomes all come from the same underlying population."
   ]
  },
  {
   "cell_type": "markdown",
   "id": "f002fda6",
   "metadata": {},
   "source": [
    "## Done"
   ]
  },
  {
   "cell_type": "code",
   "execution_count": 36,
   "id": "614dc0c1",
   "metadata": {
    "execution": {
     "iopub.execute_input": "2022-11-05T17:30:59.631786Z",
     "iopub.status.busy": "2022-11-05T17:30:59.631634Z",
     "iopub.status.idle": "2022-11-05T17:30:59.718397Z",
     "shell.execute_reply": "2022-11-05T17:30:59.717984Z"
    }
   },
   "outputs": [],
   "source": [
    "# For your convenience, you can run this cell to run all the tests at once!\n",
    "import os\n",
    "_ = [ok.grade(q[:-3]) for q in os.listdir(\"tests\") if q.startswith('q')]"
   ]
  }
 ],
 "metadata": {
  "jupytext": {
   "split_at_heading": true,
   "text_representation": {
    "extension": ".Rmd",
    "format_name": "rmarkdown",
    "format_version": "1.1",
    "jupytext_version": "1.2.4"
   }
  },
  "kernelspec": {
   "display_name": "Python 3",
   "language": "python",
   "name": "python3"
  },
  "language_info": {
   "codemirror_mode": {
    "name": "ipython",
    "version": 3
   },
   "file_extension": ".py",
   "mimetype": "text/x-python",
   "name": "python",
   "nbconvert_exporter": "python",
   "pygments_lexer": "ipython3",
   "version": "3.10.7"
  }
 },
 "nbformat": 4,
 "nbformat_minor": 5
}
