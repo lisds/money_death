{
 "cells": [
  {
   "cell_type": "markdown",
   "id": "6f2952cd",
   "metadata": {},
   "source": [
    "# Money and death\n",
    "\n",
    "\n",
    "\n",
    "We return to the death penalty."
   ]
  },
  {
   "cell_type": "code",
   "execution_count": 1,
   "id": "eadf82b7",
   "metadata": {
    "execution": {
     "iopub.execute_input": "2023-01-25T23:16:00.077775Z",
     "iopub.status.busy": "2023-01-25T23:16:00.077476Z",
     "iopub.status.idle": "2023-01-25T23:16:00.626382Z",
     "shell.execute_reply": "2023-01-25T23:16:00.626018Z"
    }
   },
   "outputs": [],
   "source": [
    "# Array library.\n",
    "import numpy as np\n",
    "\n",
    "# A Numpy random number generator.\n",
    "rng = np.random.default_rng()\n",
    "\n",
    "# Data frames library.\n",
    "import pandas as pd\n",
    "\n",
    "# Set up plotting\n",
    "import matplotlib.pyplot as plt\n",
    "plt.style.use('fivethirtyeight')"
   ]
  },
  {
   "cell_type": "code",
   "execution_count": 2,
   "id": "ff19942c",
   "metadata": {
    "execution": {
     "iopub.execute_input": "2023-01-25T23:16:00.628961Z",
     "iopub.status.busy": "2023-01-25T23:16:00.628668Z",
     "iopub.status.idle": "2023-01-25T23:16:00.735671Z",
     "shell.execute_reply": "2023-01-25T23:16:00.735294Z"
    }
   },
   "outputs": [],
   "source": [
    "# Load the OKpy test library and tests.\n",
    "from client.api.notebook import Notebook\n",
    "ok = Notebook('money_death.ok')"
   ]
  },
  {
   "cell_type": "markdown",
   "id": "157d925b",
   "metadata": {},
   "source": [
    "In this case, we are going to analyze whether people with higher incomes are\n",
    "more likely to favor the death penalty.\n",
    "\n",
    "To do this, we are going to analyze the results from a sample of the US\n",
    "[General Social Survey](http://www.gss.norc.org) from 2002.\n",
    "\n",
    "Make sure you have the data file [GSS2002.csv](https://lisds.github.io/textbook/data/GSS2002.csv) in the same directory as this notebook.  This should be true if you unpacked the exercise zip file."
   ]
  },
  {
   "cell_type": "code",
   "execution_count": 3,
   "id": "f9debe47",
   "metadata": {
    "execution": {
     "iopub.execute_input": "2023-01-25T23:16:00.737695Z",
     "iopub.status.busy": "2023-01-25T23:16:00.737532Z",
     "iopub.status.idle": "2023-01-25T23:16:00.757536Z",
     "shell.execute_reply": "2023-01-25T23:16:00.757173Z"
    }
   },
   "outputs": [],
   "source": [
    "# Read the data into a data frame\n",
    "gss = pd.read_csv('GSS2002.csv')\n",
    "# Show the first 5 rows.\n",
    "gss.head()"
   ]
  },
  {
   "cell_type": "markdown",
   "id": "44b7df0f",
   "metadata": {},
   "source": [
    "Each row corresponds to a single respondent.\n",
    "\n",
    "Show the column names:"
   ]
  },
  {
   "cell_type": "code",
   "execution_count": 4,
   "id": "956f4348",
   "metadata": {
    "execution": {
     "iopub.execute_input": "2023-01-25T23:16:00.759397Z",
     "iopub.status.busy": "2023-01-25T23:16:00.759245Z",
     "iopub.status.idle": "2023-01-25T23:16:00.761892Z",
     "shell.execute_reply": "2023-01-25T23:16:00.761559Z"
    }
   },
   "outputs": [],
   "source": [
    "gss.columns"
   ]
  },
  {
   "cell_type": "markdown",
   "id": "51076782",
   "metadata": {},
   "source": [
    "We want to work with only two columns from this data frame.  These are\n",
    "\"Income\", and \"DeathPenalty\".\n",
    "\n",
    "\"Income\" gives the income bracket of the respondent.  \"DeathPenalty\" is the\n",
    "answer to a question about whether they \"Favor\" or \"Oppose\" the death penalty.\n",
    "\n",
    "Start by making a data frame `money_death` that only has the columns \"Income\" and \"DeathPenalty\" from `gss`.\n",
    "\n",
    "**Hint**: make a new empty data frame called `money_death`.  Get the columns\n",
    "\"Income\" and \"DeathPenalty\" from the `gss` data frame, and insert them into\n",
    "`money_death`.  See the [data frames, series, arrays page](https://lisds.github.io/textbook/data-frames/df_series_arrays)."
   ]
  },
  {
   "cell_type": "code",
   "execution_count": 5,
   "id": "282cc8c4",
   "metadata": {
    "execution": {
     "iopub.execute_input": "2023-01-25T23:16:00.763811Z",
     "iopub.status.busy": "2023-01-25T23:16:00.763572Z",
     "iopub.status.idle": "2023-01-25T23:16:00.768664Z",
     "shell.execute_reply": "2023-01-25T23:16:00.768337Z"
    }
   },
   "outputs": [],
   "source": [
    "money_death = pd.DataFrame()\n",
    "money_death['Income'] = gss['Income']\n",
    "money_death['DeathPenalty'] = gss['DeathPenalty']\n",
    "# Show the result\n",
    "money_death.head()"
   ]
  },
  {
   "cell_type": "code",
   "execution_count": 6,
   "id": "e34ddefe",
   "metadata": {
    "execution": {
     "iopub.execute_input": "2023-01-25T23:16:00.770477Z",
     "iopub.status.busy": "2023-01-25T23:16:00.770332Z",
     "iopub.status.idle": "2023-01-25T23:16:00.786507Z",
     "shell.execute_reply": "2023-01-25T23:16:00.786127Z"
    }
   },
   "outputs": [],
   "source": [
    "_ = ok.grade('q_1_money_death')"
   ]
  },
  {
   "cell_type": "markdown",
   "id": "60c05527",
   "metadata": {},
   "source": [
    "There are many missing question responses, indicated by `NaN`.  To make our\n",
    "life easier, we drop the respondents who didn't specify an income bracket, and\n",
    "those who did not give an answer to the death penalty question.  Pandas\n",
    "`dropna` method of the data frame does this job. It drops all rows that have\n",
    "any missing values in the row.  Check the help for the `money_death.dropna`\n",
    "method with `money_death.dropna?` in a new cell."
   ]
  },
  {
   "cell_type": "code",
   "execution_count": 7,
   "id": "77ee7366",
   "metadata": {
    "execution": {
     "iopub.execute_input": "2023-01-25T23:16:00.790156Z",
     "iopub.status.busy": "2023-01-25T23:16:00.790011Z",
     "iopub.status.idle": "2023-01-25T23:16:00.795145Z",
     "shell.execute_reply": "2023-01-25T23:16:00.794850Z"
    }
   },
   "outputs": [],
   "source": [
    "complete_md = money_death.dropna()\n",
    "complete_md.head()"
   ]
  },
  {
   "cell_type": "code",
   "execution_count": 8,
   "id": "86cd12e0",
   "metadata": {
    "execution": {
     "iopub.execute_input": "2023-01-25T23:16:00.796885Z",
     "iopub.status.busy": "2023-01-25T23:16:00.796742Z",
     "iopub.status.idle": "2023-01-25T23:16:00.805141Z",
     "shell.execute_reply": "2023-01-25T23:16:00.804750Z"
    },
    "lines_to_next_cell": 2
   },
   "outputs": [],
   "source": [
    "_ = ok.grade('q_2_complete_md')"
   ]
  },
  {
   "cell_type": "markdown",
   "id": "51c3ae51",
   "metadata": {},
   "source": [
    "Put the income column of `complete_md` into its own variable:"
   ]
  },
  {
   "cell_type": "code",
   "execution_count": 9,
   "id": "dc75236c",
   "metadata": {
    "execution": {
     "iopub.execute_input": "2023-01-25T23:16:00.808659Z",
     "iopub.status.busy": "2023-01-25T23:16:00.808527Z",
     "iopub.status.idle": "2023-01-25T23:16:00.811338Z",
     "shell.execute_reply": "2023-01-25T23:16:00.811021Z"
    }
   },
   "outputs": [],
   "source": [
    "income = complete_md['Income']\n",
    "income.head()"
   ]
  },
  {
   "cell_type": "code",
   "execution_count": 10,
   "id": "f56b4916",
   "metadata": {
    "execution": {
     "iopub.execute_input": "2023-01-25T23:16:00.813050Z",
     "iopub.status.busy": "2023-01-25T23:16:00.812914Z",
     "iopub.status.idle": "2023-01-25T23:16:00.822667Z",
     "shell.execute_reply": "2023-01-25T23:16:00.822310Z"
    },
    "lines_to_next_cell": 2
   },
   "outputs": [],
   "source": [
    "_ = ok.grade('q_3_income')"
   ]
  },
  {
   "cell_type": "markdown",
   "id": "83242855",
   "metadata": {},
   "source": [
    "Use the `value_counts` method of the `income` Series to show the unique values and their counts."
   ]
  },
  {
   "cell_type": "code",
   "execution_count": 11,
   "id": "1d427dc7",
   "metadata": {
    "execution": {
     "iopub.execute_input": "2023-01-25T23:16:00.825935Z",
     "iopub.status.busy": "2023-01-25T23:16:00.825796Z",
     "iopub.status.idle": "2023-01-25T23:16:00.829677Z",
     "shell.execute_reply": "2023-01-25T23:16:00.829341Z"
    }
   },
   "outputs": [],
   "source": [
    "income.value_counts()"
   ]
  },
  {
   "cell_type": "markdown",
   "id": "0d563d29",
   "metadata": {},
   "source": [
    "The elements in this series are strings.  We want to get income as a number.\n",
    "We estimate this by *recoding* the \"Income\" column.  We replace the string,\n",
    "giving the income bracket, with the average of the minimum and maximum in the\n",
    "range.\n",
    "\n",
    "We can do this with a *recoder function*.  We have not covered writing your own\n",
    "functions yet, so do not worry about the details of this function."
   ]
  },
  {
   "cell_type": "code",
   "execution_count": 12,
   "id": "c6bc1500",
   "metadata": {
    "execution": {
     "iopub.execute_input": "2023-01-25T23:16:00.831432Z",
     "iopub.status.busy": "2023-01-25T23:16:00.831299Z",
     "iopub.status.idle": "2023-01-25T23:16:00.833697Z",
     "shell.execute_reply": "2023-01-25T23:16:00.833401Z"
    }
   },
   "outputs": [],
   "source": [
    "# Just run this cell\n",
    "def recode_income(value):\n",
    "    if value == 'under 1000':\n",
    "        return 500\n",
    "    low_str, high_str = value.split('-')\n",
    "    low, high = int(low_str), int(high_str)\n",
    "    return np.mean([low, high])"
   ]
  },
  {
   "cell_type": "markdown",
   "id": "4dd76b87",
   "metadata": {},
   "source": [
    "Here is what the recoder function gives with the lowest income bracket."
   ]
  },
  {
   "cell_type": "code",
   "execution_count": 13,
   "id": "bc54124b",
   "metadata": {
    "execution": {
     "iopub.execute_input": "2023-01-25T23:16:00.835423Z",
     "iopub.status.busy": "2023-01-25T23:16:00.835297Z",
     "iopub.status.idle": "2023-01-25T23:16:00.837644Z",
     "shell.execute_reply": "2023-01-25T23:16:00.837341Z"
    }
   },
   "outputs": [],
   "source": [
    "recode_income('under 1000')"
   ]
  },
  {
   "cell_type": "markdown",
   "id": "f4f74b11",
   "metadata": {},
   "source": [
    "Here is what it gives for a higher bracket:"
   ]
  },
  {
   "cell_type": "code",
   "execution_count": 14,
   "id": "6105618f",
   "metadata": {
    "execution": {
     "iopub.execute_input": "2023-01-25T23:16:00.839414Z",
     "iopub.status.busy": "2023-01-25T23:16:00.839274Z",
     "iopub.status.idle": "2023-01-25T23:16:00.841810Z",
     "shell.execute_reply": "2023-01-25T23:16:00.841500Z"
    }
   },
   "outputs": [],
   "source": [
    "recode_income('90000-109999')"
   ]
  },
  {
   "cell_type": "markdown",
   "id": "e59bf909",
   "metadata": {},
   "source": [
    "The cell below uses this function to recode the \"Income\" strings into numbers.\n",
    "Again, we have not covered the `apply` method yet, so don't worry about the\n",
    "details."
   ]
  },
  {
   "cell_type": "code",
   "execution_count": 15,
   "id": "7c115124",
   "metadata": {
    "execution": {
     "iopub.execute_input": "2023-01-25T23:16:00.843603Z",
     "iopub.status.busy": "2023-01-25T23:16:00.843466Z",
     "iopub.status.idle": "2023-01-25T23:16:00.851414Z",
     "shell.execute_reply": "2023-01-25T23:16:00.851076Z"
    }
   },
   "outputs": [],
   "source": [
    "# Run this cell.\n",
    "income_ish = income.apply(recode_income)\n",
    "income_ish.head()"
   ]
  },
  {
   "cell_type": "code",
   "execution_count": 16,
   "id": "c03b3458",
   "metadata": {
    "execution": {
     "iopub.execute_input": "2023-01-25T23:16:00.853221Z",
     "iopub.status.busy": "2023-01-25T23:16:00.853083Z",
     "iopub.status.idle": "2023-01-25T23:16:00.860531Z",
     "shell.execute_reply": "2023-01-25T23:16:00.860177Z"
    }
   },
   "outputs": [],
   "source": [
    "# This test makes sure you've run the cells above correctly.\n",
    "_ = ok.grade('q_4_income_ish')"
   ]
  },
  {
   "cell_type": "markdown",
   "id": "2cea4509",
   "metadata": {},
   "source": [
    "Next put the column containing the answers to the death penalty question into\n",
    "its own variable `death`:"
   ]
  },
  {
   "cell_type": "code",
   "execution_count": 17,
   "id": "694f3480",
   "metadata": {
    "execution": {
     "iopub.execute_input": "2023-01-25T23:16:00.863658Z",
     "iopub.status.busy": "2023-01-25T23:16:00.863525Z",
     "iopub.status.idle": "2023-01-25T23:16:00.866772Z",
     "shell.execute_reply": "2023-01-25T23:16:00.866459Z"
    }
   },
   "outputs": [],
   "source": [
    "death = complete_md['DeathPenalty']\n",
    "# Show the unique values with their counts.\n",
    "death.value_counts()"
   ]
  },
  {
   "cell_type": "code",
   "execution_count": 18,
   "id": "61728117",
   "metadata": {
    "execution": {
     "iopub.execute_input": "2023-01-25T23:16:00.869207Z",
     "iopub.status.busy": "2023-01-25T23:16:00.869089Z",
     "iopub.status.idle": "2023-01-25T23:16:00.878199Z",
     "shell.execute_reply": "2023-01-25T23:16:00.877828Z"
    }
   },
   "outputs": [],
   "source": [
    "_ = ok.grade('q_5_death')"
   ]
  },
  {
   "cell_type": "markdown",
   "id": "0a146a2f",
   "metadata": {},
   "source": [
    "In the next few cells, you make two new Pandas Series.  One, `favor_income`,\n",
    "contains the recoded income values `income_ish` corresponding to respondents\n",
    "who have a `death` value of `Favor`.\n",
    "\n",
    "The other, `oppose_income`, has the recoded income values corresponding to those with `Oppose` values in `death`.\n",
    "\n",
    "**Hint** - as ever, make a Boolean series of True / False values corresponding\n",
    "to rows you want.  Use that series to select the rows from `income_ish`."
   ]
  },
  {
   "cell_type": "code",
   "execution_count": 19,
   "id": "ba8748cd",
   "metadata": {
    "execution": {
     "iopub.execute_input": "2023-01-25T23:16:00.881614Z",
     "iopub.status.busy": "2023-01-25T23:16:00.881363Z",
     "iopub.status.idle": "2023-01-25T23:16:01.002227Z",
     "shell.execute_reply": "2023-01-25T23:16:01.001855Z"
    }
   },
   "outputs": [],
   "source": [
    "favor_income = income_ish[death == 'Favor']\n",
    "# Show a histogram of the in-favor income values.\n",
    "favor_income.hist();"
   ]
  },
  {
   "cell_type": "code",
   "execution_count": 20,
   "id": "0f4c1444",
   "metadata": {
    "execution": {
     "iopub.execute_input": "2023-01-25T23:16:01.004238Z",
     "iopub.status.busy": "2023-01-25T23:16:01.004070Z",
     "iopub.status.idle": "2023-01-25T23:16:01.014670Z",
     "shell.execute_reply": "2023-01-25T23:16:01.014228Z"
    },
    "lines_to_next_cell": 2
   },
   "outputs": [],
   "source": [
    "_ = ok.grade('q_6_favor_income')"
   ]
  },
  {
   "cell_type": "markdown",
   "id": "2a421f85",
   "metadata": {},
   "source": [
    "Likewise select incomes for those opposed.   Show the distribution."
   ]
  },
  {
   "cell_type": "code",
   "execution_count": 21,
   "id": "00af6adc",
   "metadata": {
    "execution": {
     "iopub.execute_input": "2023-01-25T23:16:01.018211Z",
     "iopub.status.busy": "2023-01-25T23:16:01.018076Z",
     "iopub.status.idle": "2023-01-25T23:16:01.115251Z",
     "shell.execute_reply": "2023-01-25T23:16:01.114867Z"
    }
   },
   "outputs": [],
   "source": [
    "oppose_income = income_ish[death == 'Oppose']\n",
    "# Show a histogram of the oppose income values.\n",
    "oppose_income.hist();"
   ]
  },
  {
   "cell_type": "code",
   "execution_count": 22,
   "id": "206cd751",
   "metadata": {
    "execution": {
     "iopub.execute_input": "2023-01-25T23:16:01.117223Z",
     "iopub.status.busy": "2023-01-25T23:16:01.117072Z",
     "iopub.status.idle": "2023-01-25T23:16:01.127312Z",
     "shell.execute_reply": "2023-01-25T23:16:01.126881Z"
    }
   },
   "outputs": [],
   "source": [
    "_ = ok.grade('q_7_oppose_income')"
   ]
  },
  {
   "cell_type": "markdown",
   "id": "658f1317",
   "metadata": {},
   "source": [
    "Calculate the difference in mean income between the groups.  This is the\n",
    "difference we observe."
   ]
  },
  {
   "cell_type": "code",
   "execution_count": 23,
   "id": "6e0f2fb2",
   "metadata": {
    "execution": {
     "iopub.execute_input": "2023-01-25T23:16:01.130575Z",
     "iopub.status.busy": "2023-01-25T23:16:01.130430Z",
     "iopub.status.idle": "2023-01-25T23:16:01.133417Z",
     "shell.execute_reply": "2023-01-25T23:16:01.133076Z"
    }
   },
   "outputs": [],
   "source": [
    "actual_diff = np.mean(favor_income) - np.mean(oppose_income)\n",
    "actual_diff"
   ]
  },
  {
   "cell_type": "code",
   "execution_count": 24,
   "id": "6e311ab9",
   "metadata": {
    "execution": {
     "iopub.execute_input": "2023-01-25T23:16:01.135295Z",
     "iopub.status.busy": "2023-01-25T23:16:01.135143Z",
     "iopub.status.idle": "2023-01-25T23:16:01.145494Z",
     "shell.execute_reply": "2023-01-25T23:16:01.145055Z"
    }
   },
   "outputs": [],
   "source": [
    "_ = ok.grade('q_8_actual_diff')"
   ]
  },
  {
   "cell_type": "markdown",
   "id": "9af013ea",
   "metadata": {},
   "source": [
    "We want to know whether this difference in income is compatible with random\n",
    "sampling. That is, we want to know whether a difference this large is\n",
    "plausible, if the incomes are in fact random samples from the same population.\n",
    "\n",
    "To estimate how variable the mean differences can be, for such random sampling,\n",
    "we simulate this sampling by pooling the income values that we have, from the\n",
    "two groups, and the permuting them.\n",
    "\n",
    "First, we get the number of respondents in favor of the death penalty."
   ]
  },
  {
   "cell_type": "code",
   "execution_count": 25,
   "id": "e0e98412",
   "metadata": {
    "execution": {
     "iopub.execute_input": "2023-01-25T23:16:01.148988Z",
     "iopub.status.busy": "2023-01-25T23:16:01.148823Z",
     "iopub.status.idle": "2023-01-25T23:16:01.151394Z",
     "shell.execute_reply": "2023-01-25T23:16:01.151084Z"
    }
   },
   "outputs": [],
   "source": [
    "n_favor = len(favor_income)\n",
    "n_favor"
   ]
  },
  {
   "cell_type": "code",
   "execution_count": 26,
   "id": "6397a253",
   "metadata": {
    "execution": {
     "iopub.execute_input": "2023-01-25T23:16:01.153201Z",
     "iopub.status.busy": "2023-01-25T23:16:01.153063Z",
     "iopub.status.idle": "2023-01-25T23:16:01.161623Z",
     "shell.execute_reply": "2023-01-25T23:16:01.161237Z"
    },
    "lines_to_next_cell": 2
   },
   "outputs": [],
   "source": [
    "_ = ok.grade('q_9_n_favor')"
   ]
  },
  {
   "cell_type": "markdown",
   "id": "45bbab40",
   "metadata": {},
   "source": [
    "Then we pool the income values for the in-favor and oppose groups."
   ]
  },
  {
   "cell_type": "code",
   "execution_count": 27,
   "id": "89be093c",
   "metadata": {
    "execution": {
     "iopub.execute_input": "2023-01-25T23:16:01.165014Z",
     "iopub.status.busy": "2023-01-25T23:16:01.164879Z",
     "iopub.status.idle": "2023-01-25T23:16:01.167811Z",
     "shell.execute_reply": "2023-01-25T23:16:01.167476Z"
    }
   },
   "outputs": [],
   "source": [
    "# Concatenate the in-favor and opposed incomes.\n",
    "pooled = np.concatenate([favor_income, oppose_income])\n",
    "# Show the first 10 values before shuffling.\n",
    "pooled[:10]"
   ]
  },
  {
   "cell_type": "markdown",
   "id": "41e692c6",
   "metadata": {},
   "source": [
    "To do the random sampling we permute the values, so the `pooled` vector is a\n",
    "random mixture of the two groups."
   ]
  },
  {
   "cell_type": "code",
   "execution_count": 28,
   "id": "020028c8",
   "metadata": {
    "execution": {
     "iopub.execute_input": "2023-01-25T23:16:01.169686Z",
     "iopub.status.busy": "2023-01-25T23:16:01.169547Z",
     "iopub.status.idle": "2023-01-25T23:16:01.173387Z",
     "shell.execute_reply": "2023-01-25T23:16:01.173058Z"
    }
   },
   "outputs": [],
   "source": [
    "shuffled = rng.permutation(pooled)\n",
    "# Show the first 10 values after shuffling.\n",
    "shuffled[:10]"
   ]
  },
  {
   "cell_type": "markdown",
   "id": "0c547c3b",
   "metadata": {},
   "source": [
    "Treat the first `n_favor` observations from this shuffled vector as our\n",
    "simulated in-favor group.  The rest are our simulated oppose\n",
    "group."
   ]
  },
  {
   "cell_type": "code",
   "execution_count": 29,
   "id": "0d414df3",
   "metadata": {
    "execution": {
     "iopub.execute_input": "2023-01-25T23:16:01.175134Z",
     "iopub.status.busy": "2023-01-25T23:16:01.175000Z",
     "iopub.status.idle": "2023-01-25T23:16:01.176968Z",
     "shell.execute_reply": "2023-01-25T23:16:01.176656Z"
    }
   },
   "outputs": [],
   "source": [
    "fake_favor = shuffled[:n_favor]\n",
    "fake_oppose = shuffled[n_favor:]"
   ]
  },
  {
   "cell_type": "markdown",
   "id": "ba37878f",
   "metadata": {},
   "source": [
    "Calculate the difference in means for this simulation."
   ]
  },
  {
   "cell_type": "code",
   "execution_count": 30,
   "id": "8535564c",
   "metadata": {
    "execution": {
     "iopub.execute_input": "2023-01-25T23:16:01.178708Z",
     "iopub.status.busy": "2023-01-25T23:16:01.178583Z",
     "iopub.status.idle": "2023-01-25T23:16:01.181326Z",
     "shell.execute_reply": "2023-01-25T23:16:01.181030Z"
    }
   },
   "outputs": [],
   "source": [
    "fake_diff = np.mean(fake_favor) - np.mean(fake_oppose)\n",
    "fake_diff"
   ]
  },
  {
   "cell_type": "markdown",
   "id": "fa56888a",
   "metadata": {},
   "source": [
    "Now it is your turn.   Do this simulation 10000 times, to build up the\n",
    "distribution of differences compatible with random sampling."
   ]
  },
  {
   "cell_type": "code",
   "execution_count": 31,
   "id": "4a79a645",
   "metadata": {
    "execution": {
     "iopub.execute_input": "2023-01-25T23:16:01.183136Z",
     "iopub.status.busy": "2023-01-25T23:16:01.182993Z",
     "iopub.status.idle": "2023-01-25T23:16:01.403177Z",
     "shell.execute_reply": "2023-01-25T23:16:01.402857Z"
    }
   },
   "outputs": [],
   "source": [
    "fake_differences = np.zeros(10000)\n",
    "for i in np.arange(10000):\n",
    "    #- Permute the pooled incomes\n",
    "    shuffled = rng.permutation(pooled)\n",
    "    #- Make a fake favor sample\n",
    "    fake_favor = shuffled[:n_favor]\n",
    "    #- Make a fake opposed sample\n",
    "    fake_oppose = shuffled[n_favor:]\n",
    "    #- Calculate the mean difference for the fake samples\n",
    "    fake_diff = np.mean(fake_favor) - np.mean(fake_oppose)\n",
    "    #- Put the mean difference into the fake_differences array.\n",
    "    fake_differences[i] = fake_diff\n",
    "# Show the first 10 fake differences\n",
    "fake_differences[:10]"
   ]
  },
  {
   "cell_type": "code",
   "execution_count": 32,
   "id": "2f3e32da",
   "metadata": {
    "execution": {
     "iopub.execute_input": "2023-01-25T23:16:01.404949Z",
     "iopub.status.busy": "2023-01-25T23:16:01.404804Z",
     "iopub.status.idle": "2023-01-25T23:16:01.413723Z",
     "shell.execute_reply": "2023-01-25T23:16:01.413354Z"
    }
   },
   "outputs": [],
   "source": [
    "_ = ok.grade('q_10_fake_differences')"
   ]
  },
  {
   "cell_type": "markdown",
   "id": "613c18c6",
   "metadata": {},
   "source": [
    "When you have that working, do a histogram of the differences."
   ]
  },
  {
   "cell_type": "code",
   "execution_count": 33,
   "id": "90cea28f",
   "metadata": {
    "execution": {
     "iopub.execute_input": "2023-01-25T23:16:01.417114Z",
     "iopub.status.busy": "2023-01-25T23:16:01.416969Z",
     "iopub.status.idle": "2023-01-25T23:16:01.507602Z",
     "shell.execute_reply": "2023-01-25T23:16:01.507262Z"
    }
   },
   "outputs": [],
   "source": [
    "plt.hist(fake_differences)"
   ]
  },
  {
   "cell_type": "markdown",
   "id": "497a160d",
   "metadata": {},
   "source": [
    "You can get an idea of where the actual difference we saw sits on this\n",
    "histogram, and therefore how likely that difference is, assuming the incomes\n",
    "come from the same underlying population of incomes.\n",
    "\n",
    "To be more specific, show the proportion of the differences you calculated that\n",
    "were greater than or equal to the actual difference."
   ]
  },
  {
   "cell_type": "code",
   "execution_count": 34,
   "id": "45da9998",
   "metadata": {
    "execution": {
     "iopub.execute_input": "2023-01-25T23:16:01.509624Z",
     "iopub.status.busy": "2023-01-25T23:16:01.509473Z",
     "iopub.status.idle": "2023-01-25T23:16:01.512361Z",
     "shell.execute_reply": "2023-01-25T23:16:01.512022Z"
    }
   },
   "outputs": [],
   "source": [
    "p_fake_ge_actual = np.count_nonzero(fake_differences >= actual_diff) / 10000\n",
    "p_fake_ge_actual"
   ]
  },
  {
   "cell_type": "code",
   "execution_count": 35,
   "id": "5bcbe48f",
   "metadata": {
    "execution": {
     "iopub.execute_input": "2023-01-25T23:16:01.514183Z",
     "iopub.status.busy": "2023-01-25T23:16:01.514033Z",
     "iopub.status.idle": "2023-01-25T23:16:01.524063Z",
     "shell.execute_reply": "2023-01-25T23:16:01.523639Z"
    }
   },
   "outputs": [],
   "source": [
    "_ = ok.grade('q_11_p_fake_ge_actual')"
   ]
  },
  {
   "cell_type": "markdown",
   "id": "c6863a70",
   "metadata": {},
   "source": [
    "This proportion gives an estimate of the probability of seeing a difference\n",
    "this large, if the incomes all come from the same underlying population."
   ]
  },
  {
   "cell_type": "markdown",
   "id": "b164074d",
   "metadata": {},
   "source": [
    "## Done"
   ]
  },
  {
   "cell_type": "code",
   "execution_count": 36,
   "id": "b6a3e73e",
   "metadata": {
    "execution": {
     "iopub.execute_input": "2023-01-25T23:16:01.527256Z",
     "iopub.status.busy": "2023-01-25T23:16:01.527109Z",
     "iopub.status.idle": "2023-01-25T23:16:01.609108Z",
     "shell.execute_reply": "2023-01-25T23:16:01.608723Z"
    }
   },
   "outputs": [],
   "source": [
    "# For your convenience, you can run this cell to run all the tests at once!\n",
    "import os\n",
    "_ = [ok.grade(q[:-3]) for q in os.listdir(\"tests\") if q.startswith('q')]"
   ]
  }
 ],
 "metadata": {
  "jupytext": {
   "split_at_heading": true,
   "text_representation": {
    "extension": ".Rmd",
    "format_name": "rmarkdown",
    "format_version": "1.1",
    "jupytext_version": "1.2.4"
   }
  },
  "kernelspec": {
   "display_name": "Python 3",
   "language": "python",
   "name": "python3"
  },
  "language_info": {
   "codemirror_mode": {
    "name": "ipython",
    "version": 3
   },
   "file_extension": ".py",
   "mimetype": "text/x-python",
   "name": "python",
   "nbconvert_exporter": "python",
   "pygments_lexer": "ipython3",
   "version": "3.10.9"
  }
 },
 "nbformat": 4,
 "nbformat_minor": 5
}
